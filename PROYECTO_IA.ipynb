{
  "cells": [
    {
      "cell_type": "markdown",
      "metadata": {
        "id": "k34iNdpmxJcy"
      },
      "source": [
        "# RECOLECCION DE DATOS"
      ]
    },
    {
      "cell_type": "code",
      "execution_count": 9,
      "metadata": {
        "id": "Bi9fioEmwb2U"
      },
      "outputs": [],
      "source": [
        "import pandas as pd\n",
        "\n",
        "\n",
        "# Dataset 1\n",
        "archivo_1 = \"diabetes.csv\"\n",
        "df1 = pd.read_csv(archivo_1)\n",
        "\n",
        "# Dataset 2\n",
        "archivo_2 = \"diabetes_prediction_dataset.csv\"\n",
        "df2 = pd.read_csv(archivo_2)\n"
      ]
    },
    {
      "cell_type": "code",
      "execution_count": 10,
      "metadata": {
        "colab": {
          "base_uri": "https://localhost:8080/",
          "height": 244
        },
        "id": "TeqRol1-xsgL",
        "outputId": "1a39226d-84c8-41b6-ae0e-03bfedcba49f"
      },
      "outputs": [
        {
          "name": "stdout",
          "output_type": "stream",
          "text": [
            "Primer dataset (diabetes.csv):\n"
          ]
        },
        {
          "data": {
            "text/html": [
              "<div>\n",
              "<style scoped>\n",
              "    .dataframe tbody tr th:only-of-type {\n",
              "        vertical-align: middle;\n",
              "    }\n",
              "\n",
              "    .dataframe tbody tr th {\n",
              "        vertical-align: top;\n",
              "    }\n",
              "\n",
              "    .dataframe thead th {\n",
              "        text-align: right;\n",
              "    }\n",
              "</style>\n",
              "<table border=\"1\" class=\"dataframe\">\n",
              "  <thead>\n",
              "    <tr style=\"text-align: right;\">\n",
              "      <th></th>\n",
              "      <th>Pregnancies</th>\n",
              "      <th>Glucose</th>\n",
              "      <th>BloodPressure</th>\n",
              "      <th>SkinThickness</th>\n",
              "      <th>Insulin</th>\n",
              "      <th>BMI</th>\n",
              "      <th>DiabetesPedigreeFunction</th>\n",
              "      <th>Age</th>\n",
              "      <th>Outcome</th>\n",
              "    </tr>\n",
              "  </thead>\n",
              "  <tbody>\n",
              "    <tr>\n",
              "      <th>0</th>\n",
              "      <td>6</td>\n",
              "      <td>148</td>\n",
              "      <td>72</td>\n",
              "      <td>35</td>\n",
              "      <td>0</td>\n",
              "      <td>33.6</td>\n",
              "      <td>0.627</td>\n",
              "      <td>50</td>\n",
              "      <td>1</td>\n",
              "    </tr>\n",
              "    <tr>\n",
              "      <th>1</th>\n",
              "      <td>1</td>\n",
              "      <td>85</td>\n",
              "      <td>66</td>\n",
              "      <td>29</td>\n",
              "      <td>0</td>\n",
              "      <td>26.6</td>\n",
              "      <td>0.351</td>\n",
              "      <td>31</td>\n",
              "      <td>0</td>\n",
              "    </tr>\n",
              "    <tr>\n",
              "      <th>2</th>\n",
              "      <td>8</td>\n",
              "      <td>183</td>\n",
              "      <td>64</td>\n",
              "      <td>0</td>\n",
              "      <td>0</td>\n",
              "      <td>23.3</td>\n",
              "      <td>0.672</td>\n",
              "      <td>32</td>\n",
              "      <td>1</td>\n",
              "    </tr>\n",
              "    <tr>\n",
              "      <th>3</th>\n",
              "      <td>1</td>\n",
              "      <td>89</td>\n",
              "      <td>66</td>\n",
              "      <td>23</td>\n",
              "      <td>94</td>\n",
              "      <td>28.1</td>\n",
              "      <td>0.167</td>\n",
              "      <td>21</td>\n",
              "      <td>0</td>\n",
              "    </tr>\n",
              "    <tr>\n",
              "      <th>4</th>\n",
              "      <td>0</td>\n",
              "      <td>137</td>\n",
              "      <td>40</td>\n",
              "      <td>35</td>\n",
              "      <td>168</td>\n",
              "      <td>43.1</td>\n",
              "      <td>2.288</td>\n",
              "      <td>33</td>\n",
              "      <td>1</td>\n",
              "    </tr>\n",
              "  </tbody>\n",
              "</table>\n",
              "</div>"
            ],
            "text/plain": [
              "   Pregnancies  Glucose  BloodPressure  SkinThickness  Insulin   BMI  \\\n",
              "0            6      148             72             35        0  33.6   \n",
              "1            1       85             66             29        0  26.6   \n",
              "2            8      183             64              0        0  23.3   \n",
              "3            1       89             66             23       94  28.1   \n",
              "4            0      137             40             35      168  43.1   \n",
              "\n",
              "   DiabetesPedigreeFunction  Age  Outcome  \n",
              "0                     0.627   50        1  \n",
              "1                     0.351   31        0  \n",
              "2                     0.672   32        1  \n",
              "3                     0.167   21        0  \n",
              "4                     2.288   33        1  "
            ]
          },
          "execution_count": 10,
          "metadata": {},
          "output_type": "execute_result"
        }
      ],
      "source": [
        "# Visualizamos las primeras filas\n",
        "print(\"Primer dataset (diabetes.csv):\")\n",
        "df1.head()\n"
      ]
    },
    {
      "cell_type": "code",
      "execution_count": 11,
      "metadata": {
        "colab": {
          "base_uri": "https://localhost:8080/",
          "height": 244
        },
        "id": "W9toCuZUx236",
        "outputId": "04c5877d-9ede-4de0-a1f1-f8952b7b28e8"
      },
      "outputs": [
        {
          "name": "stdout",
          "output_type": "stream",
          "text": [
            "Segundo dataset (diabetes_prediction_dataset.csv):\n"
          ]
        },
        {
          "data": {
            "text/html": [
              "<div>\n",
              "<style scoped>\n",
              "    .dataframe tbody tr th:only-of-type {\n",
              "        vertical-align: middle;\n",
              "    }\n",
              "\n",
              "    .dataframe tbody tr th {\n",
              "        vertical-align: top;\n",
              "    }\n",
              "\n",
              "    .dataframe thead th {\n",
              "        text-align: right;\n",
              "    }\n",
              "</style>\n",
              "<table border=\"1\" class=\"dataframe\">\n",
              "  <thead>\n",
              "    <tr style=\"text-align: right;\">\n",
              "      <th></th>\n",
              "      <th>gender</th>\n",
              "      <th>age</th>\n",
              "      <th>hypertension</th>\n",
              "      <th>heart_disease</th>\n",
              "      <th>smoking_history</th>\n",
              "      <th>bmi</th>\n",
              "      <th>HbA1c_level</th>\n",
              "      <th>blood_glucose_level</th>\n",
              "      <th>diabetes</th>\n",
              "    </tr>\n",
              "  </thead>\n",
              "  <tbody>\n",
              "    <tr>\n",
              "      <th>0</th>\n",
              "      <td>Female</td>\n",
              "      <td>80.0</td>\n",
              "      <td>0</td>\n",
              "      <td>1</td>\n",
              "      <td>never</td>\n",
              "      <td>25.19</td>\n",
              "      <td>6.6</td>\n",
              "      <td>140</td>\n",
              "      <td>0</td>\n",
              "    </tr>\n",
              "    <tr>\n",
              "      <th>1</th>\n",
              "      <td>Female</td>\n",
              "      <td>54.0</td>\n",
              "      <td>0</td>\n",
              "      <td>0</td>\n",
              "      <td>No Info</td>\n",
              "      <td>27.32</td>\n",
              "      <td>6.6</td>\n",
              "      <td>80</td>\n",
              "      <td>0</td>\n",
              "    </tr>\n",
              "    <tr>\n",
              "      <th>2</th>\n",
              "      <td>Male</td>\n",
              "      <td>28.0</td>\n",
              "      <td>0</td>\n",
              "      <td>0</td>\n",
              "      <td>never</td>\n",
              "      <td>27.32</td>\n",
              "      <td>5.7</td>\n",
              "      <td>158</td>\n",
              "      <td>0</td>\n",
              "    </tr>\n",
              "    <tr>\n",
              "      <th>3</th>\n",
              "      <td>Female</td>\n",
              "      <td>36.0</td>\n",
              "      <td>0</td>\n",
              "      <td>0</td>\n",
              "      <td>current</td>\n",
              "      <td>23.45</td>\n",
              "      <td>5.0</td>\n",
              "      <td>155</td>\n",
              "      <td>0</td>\n",
              "    </tr>\n",
              "    <tr>\n",
              "      <th>4</th>\n",
              "      <td>Male</td>\n",
              "      <td>76.0</td>\n",
              "      <td>1</td>\n",
              "      <td>1</td>\n",
              "      <td>current</td>\n",
              "      <td>20.14</td>\n",
              "      <td>4.8</td>\n",
              "      <td>155</td>\n",
              "      <td>0</td>\n",
              "    </tr>\n",
              "  </tbody>\n",
              "</table>\n",
              "</div>"
            ],
            "text/plain": [
              "   gender   age  hypertension  heart_disease smoking_history    bmi  \\\n",
              "0  Female  80.0             0              1           never  25.19   \n",
              "1  Female  54.0             0              0         No Info  27.32   \n",
              "2    Male  28.0             0              0           never  27.32   \n",
              "3  Female  36.0             0              0         current  23.45   \n",
              "4    Male  76.0             1              1         current  20.14   \n",
              "\n",
              "   HbA1c_level  blood_glucose_level  diabetes  \n",
              "0          6.6                  140         0  \n",
              "1          6.6                   80         0  \n",
              "2          5.7                  158         0  \n",
              "3          5.0                  155         0  \n",
              "4          4.8                  155         0  "
            ]
          },
          "execution_count": 11,
          "metadata": {},
          "output_type": "execute_result"
        }
      ],
      "source": [
        "# Visualizamos las primeras filas\n",
        "print(\"Segundo dataset (diabetes_prediction_dataset.csv):\")\n",
        "df2.head()"
      ]
    },
    {
      "cell_type": "code",
      "execution_count": 12,
      "metadata": {
        "colab": {
          "base_uri": "https://localhost:8080/"
        },
        "id": "aIhDptuZx9dP",
        "outputId": "5746a95a-da83-43e9-84df-66c151dbf629"
      },
      "outputs": [
        {
          "name": "stdout",
          "output_type": "stream",
          "text": [
            "Columnas dataset 1: Index(['Pregnancies', 'Glucose', 'BloodPressure', 'SkinThickness', 'Insulin',\n",
            "       'BMI', 'DiabetesPedigreeFunction', 'Age', 'Outcome'],\n",
            "      dtype='object')\n"
          ]
        }
      ],
      "source": [
        "#Columnas del Dataset 1\n",
        "print(\"Columnas dataset 1:\", df1.columns)\n"
      ]
    },
    {
      "cell_type": "code",
      "execution_count": 13,
      "metadata": {
        "colab": {
          "base_uri": "https://localhost:8080/"
        },
        "id": "4mbbbI-HyI7p",
        "outputId": "b828f5b5-3004-422d-f296-fcfc8e231edf"
      },
      "outputs": [
        {
          "name": "stdout",
          "output_type": "stream",
          "text": [
            "Columnas dataset 2: Index(['gender', 'age', 'hypertension', 'heart_disease', 'smoking_history',\n",
            "       'bmi', 'HbA1c_level', 'blood_glucose_level', 'diabetes'],\n",
            "      dtype='object')\n"
          ]
        }
      ],
      "source": [
        "#Columnas del Dataset 2\n",
        "print(\"Columnas dataset 2:\", df2.columns)\n"
      ]
    },
    {
      "cell_type": "code",
      "execution_count": 14,
      "metadata": {
        "colab": {
          "base_uri": "https://localhost:8080/"
        },
        "id": "_itxaq2lyTlX",
        "outputId": "a4c174e5-5303-4d83-d28b-9ce32cc8c99b"
      },
      "outputs": [
        {
          "name": "stdout",
          "output_type": "stream",
          "text": [
            "Columnas dataset 1: Index(['Pregnancies', 'Glucose', 'BloodPressure', 'SkinThickness', 'Insulin',\n",
            "       'BMI', 'DiabetesPedigreeFunction', 'Age', 'Outcome'],\n",
            "      dtype='object')\n",
            "Columnas dataset 2: Index(['gender', 'age', 'hypertension', 'heart_disease', 'smoking_history',\n",
            "       'bmi', 'HbA1c_level', 'blood_glucose_level', 'diabetes'],\n",
            "      dtype='object')\n"
          ]
        }
      ],
      "source": [
        "print(\"Columnas dataset 1:\", df1.columns)\n",
        "print(\"Columnas dataset 2:\", df2.columns)\n"
      ]
    },
    {
      "cell_type": "code",
      "execution_count": 15,
      "metadata": {
        "colab": {
          "base_uri": "https://localhost:8080/",
          "height": 226
        },
        "id": "lL-TG8VpyhSs",
        "outputId": "33ddd5a5-5b7b-4cda-ee54-0ad123ddfdcf"
      },
      "outputs": [
        {
          "data": {
            "text/html": [
              "<div>\n",
              "<style scoped>\n",
              "    .dataframe tbody tr th:only-of-type {\n",
              "        vertical-align: middle;\n",
              "    }\n",
              "\n",
              "    .dataframe tbody tr th {\n",
              "        vertical-align: top;\n",
              "    }\n",
              "\n",
              "    .dataframe thead th {\n",
              "        text-align: right;\n",
              "    }\n",
              "</style>\n",
              "<table border=\"1\" class=\"dataframe\">\n",
              "  <thead>\n",
              "    <tr style=\"text-align: right;\">\n",
              "      <th></th>\n",
              "      <th>gender</th>\n",
              "      <th>age</th>\n",
              "      <th>hypertension</th>\n",
              "      <th>heart_disease</th>\n",
              "      <th>smoking_history</th>\n",
              "      <th>bmi</th>\n",
              "      <th>HbA1c_level</th>\n",
              "      <th>blood_glucose_level</th>\n",
              "      <th>diabetes</th>\n",
              "    </tr>\n",
              "  </thead>\n",
              "  <tbody>\n",
              "    <tr>\n",
              "      <th>0</th>\n",
              "      <td>Female</td>\n",
              "      <td>80.0</td>\n",
              "      <td>0</td>\n",
              "      <td>1</td>\n",
              "      <td>never</td>\n",
              "      <td>25.19</td>\n",
              "      <td>6.6</td>\n",
              "      <td>140</td>\n",
              "      <td>0</td>\n",
              "    </tr>\n",
              "    <tr>\n",
              "      <th>1</th>\n",
              "      <td>Female</td>\n",
              "      <td>54.0</td>\n",
              "      <td>0</td>\n",
              "      <td>0</td>\n",
              "      <td>No Info</td>\n",
              "      <td>27.32</td>\n",
              "      <td>6.6</td>\n",
              "      <td>80</td>\n",
              "      <td>0</td>\n",
              "    </tr>\n",
              "    <tr>\n",
              "      <th>2</th>\n",
              "      <td>Male</td>\n",
              "      <td>28.0</td>\n",
              "      <td>0</td>\n",
              "      <td>0</td>\n",
              "      <td>never</td>\n",
              "      <td>27.32</td>\n",
              "      <td>5.7</td>\n",
              "      <td>158</td>\n",
              "      <td>0</td>\n",
              "    </tr>\n",
              "    <tr>\n",
              "      <th>3</th>\n",
              "      <td>Female</td>\n",
              "      <td>36.0</td>\n",
              "      <td>0</td>\n",
              "      <td>0</td>\n",
              "      <td>current</td>\n",
              "      <td>23.45</td>\n",
              "      <td>5.0</td>\n",
              "      <td>155</td>\n",
              "      <td>0</td>\n",
              "    </tr>\n",
              "    <tr>\n",
              "      <th>4</th>\n",
              "      <td>Male</td>\n",
              "      <td>76.0</td>\n",
              "      <td>1</td>\n",
              "      <td>1</td>\n",
              "      <td>current</td>\n",
              "      <td>20.14</td>\n",
              "      <td>4.8</td>\n",
              "      <td>155</td>\n",
              "      <td>0</td>\n",
              "    </tr>\n",
              "  </tbody>\n",
              "</table>\n",
              "</div>"
            ],
            "text/plain": [
              "   gender   age  hypertension  heart_disease smoking_history    bmi  \\\n",
              "0  Female  80.0             0              1           never  25.19   \n",
              "1  Female  54.0             0              0         No Info  27.32   \n",
              "2    Male  28.0             0              0           never  27.32   \n",
              "3  Female  36.0             0              0         current  23.45   \n",
              "4    Male  76.0             1              1         current  20.14   \n",
              "\n",
              "   HbA1c_level  blood_glucose_level  diabetes  \n",
              "0          6.6                  140         0  \n",
              "1          6.6                   80         0  \n",
              "2          5.7                  158         0  \n",
              "3          5.0                  155         0  \n",
              "4          4.8                  155         0  "
            ]
          },
          "execution_count": 15,
          "metadata": {},
          "output_type": "execute_result"
        }
      ],
      "source": [
        "import pandas as pd\n",
        "import os\n",
        "\n",
        "archivo_2 = \"diabetes_prediction_dataset.csv\"\n",
        "df = pd.read_csv(archivo_2)\n",
        "df.head()\n"
      ]
    },
    {
      "cell_type": "markdown",
      "metadata": {
        "id": "wRtLX4SDzuQV"
      },
      "source": [
        "# Exploración de datos"
      ]
    },
    {
      "cell_type": "code",
      "execution_count": 16,
      "metadata": {
        "colab": {
          "base_uri": "https://localhost:8080/"
        },
        "id": "WnRMZ1E-zzR0",
        "outputId": "06ebc56f-ab53-45ef-c032-46a99af819c3"
      },
      "outputs": [
        {
          "name": "stdout",
          "output_type": "stream",
          "text": [
            "🔍 Información general del dataset:\n",
            "<class 'pandas.core.frame.DataFrame'>\n",
            "RangeIndex: 100000 entries, 0 to 99999\n",
            "Data columns (total 9 columns):\n",
            " #   Column               Non-Null Count   Dtype  \n",
            "---  ------               --------------   -----  \n",
            " 0   gender               100000 non-null  object \n",
            " 1   age                  100000 non-null  float64\n",
            " 2   hypertension         100000 non-null  int64  \n",
            " 3   heart_disease        100000 non-null  int64  \n",
            " 4   smoking_history      100000 non-null  object \n",
            " 5   bmi                  100000 non-null  float64\n",
            " 6   HbA1c_level          100000 non-null  float64\n",
            " 7   blood_glucose_level  100000 non-null  int64  \n",
            " 8   diabetes             100000 non-null  int64  \n",
            "dtypes: float64(3), int64(4), object(2)\n",
            "memory usage: 6.9+ MB\n"
          ]
        }
      ],
      "source": [
        "# 1. Información general del dataset\n",
        "print(\"🔍 Información general del dataset:\")\n",
        "df.info()"
      ]
    },
    {
      "cell_type": "code",
      "execution_count": 17,
      "metadata": {
        "colab": {
          "base_uri": "https://localhost:8080/",
          "height": 480
        },
        "id": "R1qo2suKz4sR",
        "outputId": "8368f5aa-26d5-47b9-c2d2-80bf75521f70"
      },
      "outputs": [
        {
          "name": "stdout",
          "output_type": "stream",
          "text": [
            "\n",
            "📌 Primeras filas:\n"
          ]
        },
        {
          "data": {
            "text/html": [
              "<div>\n",
              "<style scoped>\n",
              "    .dataframe tbody tr th:only-of-type {\n",
              "        vertical-align: middle;\n",
              "    }\n",
              "\n",
              "    .dataframe tbody tr th {\n",
              "        vertical-align: top;\n",
              "    }\n",
              "\n",
              "    .dataframe thead th {\n",
              "        text-align: right;\n",
              "    }\n",
              "</style>\n",
              "<table border=\"1\" class=\"dataframe\">\n",
              "  <thead>\n",
              "    <tr style=\"text-align: right;\">\n",
              "      <th></th>\n",
              "      <th>gender</th>\n",
              "      <th>age</th>\n",
              "      <th>hypertension</th>\n",
              "      <th>heart_disease</th>\n",
              "      <th>smoking_history</th>\n",
              "      <th>bmi</th>\n",
              "      <th>HbA1c_level</th>\n",
              "      <th>blood_glucose_level</th>\n",
              "      <th>diabetes</th>\n",
              "    </tr>\n",
              "  </thead>\n",
              "  <tbody>\n",
              "    <tr>\n",
              "      <th>0</th>\n",
              "      <td>Female</td>\n",
              "      <td>80.0</td>\n",
              "      <td>0</td>\n",
              "      <td>1</td>\n",
              "      <td>never</td>\n",
              "      <td>25.19</td>\n",
              "      <td>6.6</td>\n",
              "      <td>140</td>\n",
              "      <td>0</td>\n",
              "    </tr>\n",
              "    <tr>\n",
              "      <th>1</th>\n",
              "      <td>Female</td>\n",
              "      <td>54.0</td>\n",
              "      <td>0</td>\n",
              "      <td>0</td>\n",
              "      <td>No Info</td>\n",
              "      <td>27.32</td>\n",
              "      <td>6.6</td>\n",
              "      <td>80</td>\n",
              "      <td>0</td>\n",
              "    </tr>\n",
              "    <tr>\n",
              "      <th>2</th>\n",
              "      <td>Male</td>\n",
              "      <td>28.0</td>\n",
              "      <td>0</td>\n",
              "      <td>0</td>\n",
              "      <td>never</td>\n",
              "      <td>27.32</td>\n",
              "      <td>5.7</td>\n",
              "      <td>158</td>\n",
              "      <td>0</td>\n",
              "    </tr>\n",
              "    <tr>\n",
              "      <th>3</th>\n",
              "      <td>Female</td>\n",
              "      <td>36.0</td>\n",
              "      <td>0</td>\n",
              "      <td>0</td>\n",
              "      <td>current</td>\n",
              "      <td>23.45</td>\n",
              "      <td>5.0</td>\n",
              "      <td>155</td>\n",
              "      <td>0</td>\n",
              "    </tr>\n",
              "    <tr>\n",
              "      <th>4</th>\n",
              "      <td>Male</td>\n",
              "      <td>76.0</td>\n",
              "      <td>1</td>\n",
              "      <td>1</td>\n",
              "      <td>current</td>\n",
              "      <td>20.14</td>\n",
              "      <td>4.8</td>\n",
              "      <td>155</td>\n",
              "      <td>0</td>\n",
              "    </tr>\n",
              "    <tr>\n",
              "      <th>...</th>\n",
              "      <td>...</td>\n",
              "      <td>...</td>\n",
              "      <td>...</td>\n",
              "      <td>...</td>\n",
              "      <td>...</td>\n",
              "      <td>...</td>\n",
              "      <td>...</td>\n",
              "      <td>...</td>\n",
              "      <td>...</td>\n",
              "    </tr>\n",
              "    <tr>\n",
              "      <th>99995</th>\n",
              "      <td>Female</td>\n",
              "      <td>80.0</td>\n",
              "      <td>0</td>\n",
              "      <td>0</td>\n",
              "      <td>No Info</td>\n",
              "      <td>27.32</td>\n",
              "      <td>6.2</td>\n",
              "      <td>90</td>\n",
              "      <td>0</td>\n",
              "    </tr>\n",
              "    <tr>\n",
              "      <th>99996</th>\n",
              "      <td>Female</td>\n",
              "      <td>2.0</td>\n",
              "      <td>0</td>\n",
              "      <td>0</td>\n",
              "      <td>No Info</td>\n",
              "      <td>17.37</td>\n",
              "      <td>6.5</td>\n",
              "      <td>100</td>\n",
              "      <td>0</td>\n",
              "    </tr>\n",
              "    <tr>\n",
              "      <th>99997</th>\n",
              "      <td>Male</td>\n",
              "      <td>66.0</td>\n",
              "      <td>0</td>\n",
              "      <td>0</td>\n",
              "      <td>former</td>\n",
              "      <td>27.83</td>\n",
              "      <td>5.7</td>\n",
              "      <td>155</td>\n",
              "      <td>0</td>\n",
              "    </tr>\n",
              "    <tr>\n",
              "      <th>99998</th>\n",
              "      <td>Female</td>\n",
              "      <td>24.0</td>\n",
              "      <td>0</td>\n",
              "      <td>0</td>\n",
              "      <td>never</td>\n",
              "      <td>35.42</td>\n",
              "      <td>4.0</td>\n",
              "      <td>100</td>\n",
              "      <td>0</td>\n",
              "    </tr>\n",
              "    <tr>\n",
              "      <th>99999</th>\n",
              "      <td>Female</td>\n",
              "      <td>57.0</td>\n",
              "      <td>0</td>\n",
              "      <td>0</td>\n",
              "      <td>current</td>\n",
              "      <td>22.43</td>\n",
              "      <td>6.6</td>\n",
              "      <td>90</td>\n",
              "      <td>0</td>\n",
              "    </tr>\n",
              "  </tbody>\n",
              "</table>\n",
              "<p>100000 rows × 9 columns</p>\n",
              "</div>"
            ],
            "text/plain": [
              "       gender   age  hypertension  heart_disease smoking_history    bmi  \\\n",
              "0      Female  80.0             0              1           never  25.19   \n",
              "1      Female  54.0             0              0         No Info  27.32   \n",
              "2        Male  28.0             0              0           never  27.32   \n",
              "3      Female  36.0             0              0         current  23.45   \n",
              "4        Male  76.0             1              1         current  20.14   \n",
              "...       ...   ...           ...            ...             ...    ...   \n",
              "99995  Female  80.0             0              0         No Info  27.32   \n",
              "99996  Female   2.0             0              0         No Info  17.37   \n",
              "99997    Male  66.0             0              0          former  27.83   \n",
              "99998  Female  24.0             0              0           never  35.42   \n",
              "99999  Female  57.0             0              0         current  22.43   \n",
              "\n",
              "       HbA1c_level  blood_glucose_level  diabetes  \n",
              "0              6.6                  140         0  \n",
              "1              6.6                   80         0  \n",
              "2              5.7                  158         0  \n",
              "3              5.0                  155         0  \n",
              "4              4.8                  155         0  \n",
              "...            ...                  ...       ...  \n",
              "99995          6.2                   90         0  \n",
              "99996          6.5                  100         0  \n",
              "99997          5.7                  155         0  \n",
              "99998          4.0                  100         0  \n",
              "99999          6.6                   90         0  \n",
              "\n",
              "[100000 rows x 9 columns]"
            ]
          },
          "execution_count": 17,
          "metadata": {},
          "output_type": "execute_result"
        }
      ],
      "source": [
        "# 2. Primeras filas del dataset\n",
        "print(\"\\n📌 Primeras filas:\")\n",
        "df"
      ]
    },
    {
      "cell_type": "code",
      "execution_count": 18,
      "metadata": {
        "colab": {
          "base_uri": "https://localhost:8080/",
          "height": 356
        },
        "id": "uDIMh31z0AML",
        "outputId": "aaedb847-f263-4e9c-81d2-f42c12961fb2"
      },
      "outputs": [
        {
          "name": "stdout",
          "output_type": "stream",
          "text": [
            "\n",
            "📊 Estadísticas descriptivas:\n"
          ]
        },
        {
          "data": {
            "text/html": [
              "<div>\n",
              "<style scoped>\n",
              "    .dataframe tbody tr th:only-of-type {\n",
              "        vertical-align: middle;\n",
              "    }\n",
              "\n",
              "    .dataframe tbody tr th {\n",
              "        vertical-align: top;\n",
              "    }\n",
              "\n",
              "    .dataframe thead th {\n",
              "        text-align: right;\n",
              "    }\n",
              "</style>\n",
              "<table border=\"1\" class=\"dataframe\">\n",
              "  <thead>\n",
              "    <tr style=\"text-align: right;\">\n",
              "      <th></th>\n",
              "      <th>age</th>\n",
              "      <th>hypertension</th>\n",
              "      <th>heart_disease</th>\n",
              "      <th>bmi</th>\n",
              "      <th>HbA1c_level</th>\n",
              "      <th>blood_glucose_level</th>\n",
              "      <th>diabetes</th>\n",
              "    </tr>\n",
              "  </thead>\n",
              "  <tbody>\n",
              "    <tr>\n",
              "      <th>count</th>\n",
              "      <td>100000.000000</td>\n",
              "      <td>100000.00000</td>\n",
              "      <td>100000.000000</td>\n",
              "      <td>100000.000000</td>\n",
              "      <td>100000.000000</td>\n",
              "      <td>100000.000000</td>\n",
              "      <td>100000.000000</td>\n",
              "    </tr>\n",
              "    <tr>\n",
              "      <th>mean</th>\n",
              "      <td>41.885856</td>\n",
              "      <td>0.07485</td>\n",
              "      <td>0.039420</td>\n",
              "      <td>27.320767</td>\n",
              "      <td>5.527507</td>\n",
              "      <td>138.058060</td>\n",
              "      <td>0.085000</td>\n",
              "    </tr>\n",
              "    <tr>\n",
              "      <th>std</th>\n",
              "      <td>22.516840</td>\n",
              "      <td>0.26315</td>\n",
              "      <td>0.194593</td>\n",
              "      <td>6.636783</td>\n",
              "      <td>1.070672</td>\n",
              "      <td>40.708136</td>\n",
              "      <td>0.278883</td>\n",
              "    </tr>\n",
              "    <tr>\n",
              "      <th>min</th>\n",
              "      <td>0.080000</td>\n",
              "      <td>0.00000</td>\n",
              "      <td>0.000000</td>\n",
              "      <td>10.010000</td>\n",
              "      <td>3.500000</td>\n",
              "      <td>80.000000</td>\n",
              "      <td>0.000000</td>\n",
              "    </tr>\n",
              "    <tr>\n",
              "      <th>25%</th>\n",
              "      <td>24.000000</td>\n",
              "      <td>0.00000</td>\n",
              "      <td>0.000000</td>\n",
              "      <td>23.630000</td>\n",
              "      <td>4.800000</td>\n",
              "      <td>100.000000</td>\n",
              "      <td>0.000000</td>\n",
              "    </tr>\n",
              "    <tr>\n",
              "      <th>50%</th>\n",
              "      <td>43.000000</td>\n",
              "      <td>0.00000</td>\n",
              "      <td>0.000000</td>\n",
              "      <td>27.320000</td>\n",
              "      <td>5.800000</td>\n",
              "      <td>140.000000</td>\n",
              "      <td>0.000000</td>\n",
              "    </tr>\n",
              "    <tr>\n",
              "      <th>75%</th>\n",
              "      <td>60.000000</td>\n",
              "      <td>0.00000</td>\n",
              "      <td>0.000000</td>\n",
              "      <td>29.580000</td>\n",
              "      <td>6.200000</td>\n",
              "      <td>159.000000</td>\n",
              "      <td>0.000000</td>\n",
              "    </tr>\n",
              "    <tr>\n",
              "      <th>max</th>\n",
              "      <td>80.000000</td>\n",
              "      <td>1.00000</td>\n",
              "      <td>1.000000</td>\n",
              "      <td>95.690000</td>\n",
              "      <td>9.000000</td>\n",
              "      <td>300.000000</td>\n",
              "      <td>1.000000</td>\n",
              "    </tr>\n",
              "  </tbody>\n",
              "</table>\n",
              "</div>"
            ],
            "text/plain": [
              "                 age  hypertension  heart_disease            bmi  \\\n",
              "count  100000.000000  100000.00000  100000.000000  100000.000000   \n",
              "mean       41.885856       0.07485       0.039420      27.320767   \n",
              "std        22.516840       0.26315       0.194593       6.636783   \n",
              "min         0.080000       0.00000       0.000000      10.010000   \n",
              "25%        24.000000       0.00000       0.000000      23.630000   \n",
              "50%        43.000000       0.00000       0.000000      27.320000   \n",
              "75%        60.000000       0.00000       0.000000      29.580000   \n",
              "max        80.000000       1.00000       1.000000      95.690000   \n",
              "\n",
              "         HbA1c_level  blood_glucose_level       diabetes  \n",
              "count  100000.000000        100000.000000  100000.000000  \n",
              "mean        5.527507           138.058060       0.085000  \n",
              "std         1.070672            40.708136       0.278883  \n",
              "min         3.500000            80.000000       0.000000  \n",
              "25%         4.800000           100.000000       0.000000  \n",
              "50%         5.800000           140.000000       0.000000  \n",
              "75%         6.200000           159.000000       0.000000  \n",
              "max         9.000000           300.000000       1.000000  "
            ]
          },
          "metadata": {},
          "output_type": "display_data"
        }
      ],
      "source": [
        "# 3. Estadísticas descriptivas\n",
        "print(\"\\n📊 Estadísticas descriptivas:\")\n",
        "display(df.describe())"
      ]
    },
    {
      "cell_type": "code",
      "execution_count": 19,
      "metadata": {
        "colab": {
          "base_uri": "https://localhost:8080/"
        },
        "id": "3MeU7_ty0DME",
        "outputId": "630a12b9-5d72-41c3-e1c7-f0631a512d04"
      },
      "outputs": [
        {
          "name": "stdout",
          "output_type": "stream",
          "text": [
            "\n",
            "⚠️ Valores nulos por columna:\n",
            "gender                 0\n",
            "age                    0\n",
            "hypertension           0\n",
            "heart_disease          0\n",
            "smoking_history        0\n",
            "bmi                    0\n",
            "HbA1c_level            0\n",
            "blood_glucose_level    0\n",
            "diabetes               0\n",
            "dtype: int64\n"
          ]
        }
      ],
      "source": [
        "# 4. Conteo de valores nulos\n",
        "print(\"\\n⚠️ Valores nulos por columna:\")\n",
        "print(df.isnull().sum())"
      ]
    },
    {
      "cell_type": "code",
      "execution_count": 20,
      "metadata": {
        "colab": {
          "base_uri": "https://localhost:8080/"
        },
        "id": "q947i23Z0Fc9",
        "outputId": "5eed1423-9009-41d8-f3e2-26255678a755"
      },
      "outputs": [
        {
          "name": "stdout",
          "output_type": "stream",
          "text": [
            "\n",
            "🎯 Distribución de la variable 'diabetes':\n",
            "diabetes\n",
            "0    91500\n",
            "1     8500\n",
            "Name: count, dtype: int64\n"
          ]
        }
      ],
      "source": [
        "# 5. Distribución de la variable objetivo\n",
        "print(\"\\n🎯 Distribución de la variable 'diabetes':\")\n",
        "print(df['diabetes'].value_counts())"
      ]
    },
    {
      "cell_type": "code",
      "execution_count": 21,
      "metadata": {
        "colab": {
          "base_uri": "https://localhost:8080/"
        },
        "id": "Pl_iVJcB0IB_",
        "outputId": "0454ba77-7bfd-4c33-f3b5-55ecd611b4da"
      },
      "outputs": [
        {
          "name": "stdout",
          "output_type": "stream",
          "text": [
            "\n",
            "🔠 Valores únicos en variables categóricas:\n",
            "\n",
            "gender:\n",
            "gender\n",
            "Female    58552\n",
            "Male      41430\n",
            "Other        18\n",
            "Name: count, dtype: int64\n",
            "\n",
            "smoking_history:\n",
            "smoking_history\n",
            "No Info        35816\n",
            "never          35095\n",
            "former          9352\n",
            "current         9286\n",
            "not current     6447\n",
            "ever            4004\n",
            "Name: count, dtype: int64\n"
          ]
        }
      ],
      "source": [
        "# 6. Tipos de datos únicos por columna categórica\n",
        "print(\"\\n🔠 Valores únicos en variables categóricas:\")\n",
        "cat_cols = ['gender', 'smoking_history']\n",
        "for col in cat_cols:\n",
        "    print(f\"\\n{col}:\")\n",
        "    print(df[col].value_counts())"
      ]
    },
    {
      "cell_type": "code",
      "execution_count": 22,
      "metadata": {
        "colab": {
          "base_uri": "https://localhost:8080/",
          "height": 325
        },
        "id": "D79HhHzR0H-Z",
        "outputId": "f5615a31-da18-4c44-bde3-6985326cc0fe"
      },
      "outputs": [
        {
          "name": "stdout",
          "output_type": "stream",
          "text": [
            "\n",
            "📈 Correlación entre variables numéricas:\n"
          ]
        },
        {
          "data": {
            "text/html": [
              "<div>\n",
              "<style scoped>\n",
              "    .dataframe tbody tr th:only-of-type {\n",
              "        vertical-align: middle;\n",
              "    }\n",
              "\n",
              "    .dataframe tbody tr th {\n",
              "        vertical-align: top;\n",
              "    }\n",
              "\n",
              "    .dataframe thead th {\n",
              "        text-align: right;\n",
              "    }\n",
              "</style>\n",
              "<table border=\"1\" class=\"dataframe\">\n",
              "  <thead>\n",
              "    <tr style=\"text-align: right;\">\n",
              "      <th></th>\n",
              "      <th>age</th>\n",
              "      <th>hypertension</th>\n",
              "      <th>heart_disease</th>\n",
              "      <th>bmi</th>\n",
              "      <th>HbA1c_level</th>\n",
              "      <th>blood_glucose_level</th>\n",
              "      <th>diabetes</th>\n",
              "    </tr>\n",
              "  </thead>\n",
              "  <tbody>\n",
              "    <tr>\n",
              "      <th>age</th>\n",
              "      <td>1.000000</td>\n",
              "      <td>0.251171</td>\n",
              "      <td>0.233354</td>\n",
              "      <td>0.337396</td>\n",
              "      <td>0.101354</td>\n",
              "      <td>0.110672</td>\n",
              "      <td>0.258008</td>\n",
              "    </tr>\n",
              "    <tr>\n",
              "      <th>hypertension</th>\n",
              "      <td>0.251171</td>\n",
              "      <td>1.000000</td>\n",
              "      <td>0.121262</td>\n",
              "      <td>0.147666</td>\n",
              "      <td>0.080939</td>\n",
              "      <td>0.084429</td>\n",
              "      <td>0.197823</td>\n",
              "    </tr>\n",
              "    <tr>\n",
              "      <th>heart_disease</th>\n",
              "      <td>0.233354</td>\n",
              "      <td>0.121262</td>\n",
              "      <td>1.000000</td>\n",
              "      <td>0.061198</td>\n",
              "      <td>0.067589</td>\n",
              "      <td>0.070066</td>\n",
              "      <td>0.171727</td>\n",
              "    </tr>\n",
              "    <tr>\n",
              "      <th>bmi</th>\n",
              "      <td>0.337396</td>\n",
              "      <td>0.147666</td>\n",
              "      <td>0.061198</td>\n",
              "      <td>1.000000</td>\n",
              "      <td>0.082997</td>\n",
              "      <td>0.091261</td>\n",
              "      <td>0.214357</td>\n",
              "    </tr>\n",
              "    <tr>\n",
              "      <th>HbA1c_level</th>\n",
              "      <td>0.101354</td>\n",
              "      <td>0.080939</td>\n",
              "      <td>0.067589</td>\n",
              "      <td>0.082997</td>\n",
              "      <td>1.000000</td>\n",
              "      <td>0.166733</td>\n",
              "      <td>0.400660</td>\n",
              "    </tr>\n",
              "    <tr>\n",
              "      <th>blood_glucose_level</th>\n",
              "      <td>0.110672</td>\n",
              "      <td>0.084429</td>\n",
              "      <td>0.070066</td>\n",
              "      <td>0.091261</td>\n",
              "      <td>0.166733</td>\n",
              "      <td>1.000000</td>\n",
              "      <td>0.419558</td>\n",
              "    </tr>\n",
              "    <tr>\n",
              "      <th>diabetes</th>\n",
              "      <td>0.258008</td>\n",
              "      <td>0.197823</td>\n",
              "      <td>0.171727</td>\n",
              "      <td>0.214357</td>\n",
              "      <td>0.400660</td>\n",
              "      <td>0.419558</td>\n",
              "      <td>1.000000</td>\n",
              "    </tr>\n",
              "  </tbody>\n",
              "</table>\n",
              "</div>"
            ],
            "text/plain": [
              "                          age  hypertension  heart_disease       bmi  \\\n",
              "age                  1.000000      0.251171       0.233354  0.337396   \n",
              "hypertension         0.251171      1.000000       0.121262  0.147666   \n",
              "heart_disease        0.233354      0.121262       1.000000  0.061198   \n",
              "bmi                  0.337396      0.147666       0.061198  1.000000   \n",
              "HbA1c_level          0.101354      0.080939       0.067589  0.082997   \n",
              "blood_glucose_level  0.110672      0.084429       0.070066  0.091261   \n",
              "diabetes             0.258008      0.197823       0.171727  0.214357   \n",
              "\n",
              "                     HbA1c_level  blood_glucose_level  diabetes  \n",
              "age                     0.101354             0.110672  0.258008  \n",
              "hypertension            0.080939             0.084429  0.197823  \n",
              "heart_disease           0.067589             0.070066  0.171727  \n",
              "bmi                     0.082997             0.091261  0.214357  \n",
              "HbA1c_level             1.000000             0.166733  0.400660  \n",
              "blood_glucose_level     0.166733             1.000000  0.419558  \n",
              "diabetes                0.400660             0.419558  1.000000  "
            ]
          },
          "metadata": {},
          "output_type": "display_data"
        }
      ],
      "source": [
        "# 7. Correlación entre variables numéricas\n",
        "print(\"\\n📈 Correlación entre variables numéricas:\")\n",
        "display(df.corr(numeric_only=True))"
      ]
    },
    {
      "cell_type": "code",
      "execution_count": 23,
      "metadata": {
        "colab": {
          "base_uri": "https://localhost:8080/"
        },
        "id": "gLsNwGxy0Xk_",
        "outputId": "2ec94ef5-daef-412b-828b-fe5c264048b4"
      },
      "outputs": [
        {
          "name": "stdout",
          "output_type": "stream",
          "text": [
            " Valores nulos por columna:\n",
            "gender                 0\n",
            "age                    0\n",
            "hypertension           0\n",
            "heart_disease          0\n",
            "smoking_history        0\n",
            "bmi                    0\n",
            "HbA1c_level            0\n",
            "blood_glucose_level    0\n",
            "diabetes               0\n",
            "dtype: int64\n",
            "\n",
            " Tipos de datos:\n",
            "gender                  object\n",
            "age                    float64\n",
            "hypertension             int64\n",
            "heart_disease            int64\n",
            "smoking_history         object\n",
            "bmi                    float64\n",
            "HbA1c_level            float64\n",
            "blood_glucose_level      int64\n",
            "diabetes                 int64\n",
            "dtype: object\n",
            "\n",
            " Valores negativos en columnas numéricas:\n",
            "age: 0 negativos\n",
            "bmi: 0 negativos\n",
            "HbA1c_level: 0 negativos\n",
            "blood_glucose_level: 0 negativos\n",
            "\n",
            " Rangos de columnas numéricas:\n",
            "                 age            bmi    HbA1c_level  blood_glucose_level\n",
            "count  100000.000000  100000.000000  100000.000000        100000.000000\n",
            "mean       41.885856      27.320767       5.527507           138.058060\n",
            "std        22.516840       6.636783       1.070672            40.708136\n",
            "min         0.080000      10.010000       3.500000            80.000000\n",
            "25%        24.000000      23.630000       4.800000           100.000000\n",
            "50%        43.000000      27.320000       5.800000           140.000000\n",
            "75%        60.000000      29.580000       6.200000           159.000000\n",
            "max        80.000000      95.690000       9.000000           300.000000\n",
            "\n",
            " Revisión de variables categóricas:\n",
            "\n",
            "gender:\n",
            "gender\n",
            "Female    58552\n",
            "Male      41430\n",
            "Other        18\n",
            "Name: count, dtype: int64\n",
            "\n",
            "smoking_history:\n",
            "smoking_history\n",
            "No Info        35816\n",
            "never          35095\n",
            "former          9352\n",
            "current         9286\n",
            "not current     6447\n",
            "ever            4004\n",
            "Name: count, dtype: int64\n",
            "\n",
            " Registros duplicados:\n",
            "3854\n"
          ]
        }
      ],
      "source": [
        "#verificación de calidad\n",
        "import numpy as np\n",
        "\n",
        "print(\" Valores nulos por columna:\")\n",
        "print(df.isnull().sum())\n",
        "\n",
        "print(\"\\n Tipos de datos:\")\n",
        "print(df.dtypes)\n",
        "\n",
        "print(\"\\n Valores negativos en columnas numéricas:\")\n",
        "num_cols = ['age', 'bmi', 'HbA1c_level', 'blood_glucose_level']\n",
        "for col in num_cols:\n",
        "    print(f\"{col}: {(df[col] < 0).sum()} negativos\")\n",
        "\n",
        "print(\"\\n Rangos de columnas numéricas:\")\n",
        "print(df[num_cols].describe())\n",
        "\n",
        "print(\"\\n Revisión de variables categóricas:\")\n",
        "cat_cols = ['gender', 'smoking_history']\n",
        "for col in cat_cols:\n",
        "    print(f\"\\n{col}:\")\n",
        "    print(df[col].value_counts(dropna=False))\n",
        "\n",
        "print(\"\\n Registros duplicados:\")\n",
        "print(df.duplicated().sum())\n"
      ]
    },
    {
      "cell_type": "code",
      "execution_count": 26,
      "metadata": {
        "colab": {
          "base_uri": "https://localhost:8080/",
          "height": 545
        },
        "id": "f3X4g3KZgiRV",
        "outputId": "bf167b26-11c1-46a1-a807-b51bad476bcd"
      },
      "outputs": [
        {
          "data": {
            "image/png": "[encoded data removed]",
            "text/plain": [
              "<Figure size 640x480 with 1 Axes>"
            ]
          },
          "metadata": {},
          "output_type": "display_data"
        },
        {
          "name": "stdout",
          "output_type": "stream",
          "text": [
            "diabetes\n",
            "0    0.915\n",
            "1    0.085\n",
            "Name: proportion, dtype: float64\n"
          ]
        }
      ],
      "source": [
        "# Distribución de la variable 'diabetes'\n",
        "import matplotlib.pyplot as plt\n",
        "import seaborn as sns\n",
        "\n",
        "sns.countplot(data=df, x='diabetes')\n",
        "plt.title('Distribución de la variable objetivo (diabetes)')\n",
        "plt.show()\n",
        "\n",
        "print(df['diabetes'].value_counts(normalize=True))"
      ]
    },
    {
      "cell_type": "markdown",
      "metadata": {
        "id": "0F-z4F9rjZA4"
      },
      "source": [
        "#Limpieza de datos"
      ]
    },
    {
      "cell_type": "code",
      "execution_count": 27,
      "metadata": {
        "colab": {
          "base_uri": "https://localhost:8080/"
        },
        "id": "VyIkNkNKjYjx",
        "outputId": "68b54df3-df21-4d14-ed0b-765a2909703a"
      },
      "outputs": [
        {
          "name": "stdout",
          "output_type": "stream",
          "text": [
            "Antes de eliminar duplicados: (100000, 9)\n",
            "Después de eliminar duplicados: (96146, 9)\n"
          ]
        }
      ],
      "source": [
        "# Eliminar duplicados\n",
        "print(f\"Antes de eliminar duplicados: {df.shape}\")\n",
        "df = df.drop_duplicates()\n",
        "print(f\"Después de eliminar duplicados: {df.shape}\")\n"
      ]
    },
    {
      "cell_type": "code",
      "execution_count": 28,
      "metadata": {
        "colab": {
          "base_uri": "https://localhost:8080/",
          "height": 803
        },
        "id": "g8BVgRsAk1GF",
        "outputId": "ab16b739-ce1d-48b1-c11f-496d33ebec03"
      },
      "outputs": [
        {
          "data": {
            "image/png": "[encoded data removed]",
            "text/plain": [
              "<Figure size 600x400 with 1 Axes>"
            ]
          },
          "metadata": {},
          "output_type": "display_data"
        },
        {
          "data": {
            "image/png": "[encoded data removed]",
            "text/plain": [
              "<Figure size 600x400 with 1 Axes>"
            ]
          },
          "metadata": {},
          "output_type": "display_data"
        }
      ],
      "source": [
        "# Detectar y tratar outliers\n",
        "import pandas as pd\n",
        "import seaborn as sns\n",
        "import matplotlib.pyplot as plt\n",
        "\n",
        "def visualizar_outliers(df, columnas):\n",
        "    for col in columnas:\n",
        "        plt.figure(figsize=(6, 4))\n",
        "        sns.boxplot(x=df[col])\n",
        "        plt.title(f'Boxplot de {col} (con outliers)')\n",
        "        plt.xlabel(col)\n",
        "        plt.show()\n",
        "\n",
        "visualizar_outliers(df, ['bmi', 'blood_glucose_level'])\n",
        "\n"
      ]
    },
    {
      "cell_type": "code",
      "execution_count": 29,
      "metadata": {
        "colab": {
          "base_uri": "https://localhost:8080/",
          "height": 821
        },
        "id": "6YzmGlU5c-97",
        "outputId": "c6f85e31-2e8a-411e-9a51-6acb4234b9d2"
      },
      "outputs": [
        {
          "name": "stdout",
          "output_type": "stream",
          "text": [
            "Registros después de eliminar outliers: 89072\n"
          ]
        },
        {
          "data": {
            "image/png": "[encoded data removed]",
            "text/plain": [
              "<Figure size 600x400 with 1 Axes>"
            ]
          },
          "metadata": {},
          "output_type": "display_data"
        },
        {
          "data": {
            "image/png": "[encoded data removed]",
            "text/plain": [
              "<Figure size 600x400 with 1 Axes>"
            ]
          },
          "metadata": {},
          "output_type": "display_data"
        }
      ],
      "source": [
        "#Eliminar outliers con IQR y volver a visualizar\n",
        "def eliminar_outliers_iqr(df, columna):\n",
        "    Q1 = df[columna].quantile(0.25)\n",
        "    Q3 = df[columna].quantile(0.75)\n",
        "    IQR = Q3 - Q1\n",
        "    filtro = (df[columna] >= (Q1 - 1.5 * IQR)) & (df[columna] <= (Q3 + 1.5 * IQR))\n",
        "    return df.loc[filtro]\n",
        "\n",
        "df = eliminar_outliers_iqr(df, 'bmi')\n",
        "df = eliminar_outliers_iqr(df, 'blood_glucose_level')\n",
        "\n",
        "print(f\"Registros después de eliminar outliers: {len(df)}\")\n",
        "\n",
        "def visualizar_sin_outliers(df, columnas):\n",
        "    for col in columnas:\n",
        "        plt.figure(figsize=(6, 4))\n",
        "        sns.boxplot(x=df[col])\n",
        "        plt.title(f'Boxplot de {col} (sin outliers)')\n",
        "        plt.xlabel(col)\n",
        "        plt.show()\n",
        "\n",
        "visualizar_sin_outliers(df, ['bmi', 'blood_glucose_level'])\n"
      ]
    },
    {
      "cell_type": "code",
      "execution_count": 30,
      "metadata": {
        "colab": {
          "base_uri": "https://localhost:8080/"
        },
        "id": "RQsRXeqRk7EH",
        "outputId": "4a9eb8e5-672d-45bc-b011-e55efd8c15ba"
      },
      "outputs": [
        {
          "name": "stdout",
          "output_type": "stream",
          "text": [
            "Antes de eliminar:\n",
            "gender\n",
            "Female    51610\n",
            "Male      37444\n",
            "Other        18\n",
            "Name: count, dtype: int64\n",
            "Después de eliminar:\n",
            "gender\n",
            "Female    51610\n",
            "Male      37444\n",
            "Name: count, dtype: int64\n"
          ]
        }
      ],
      "source": [
        "# Ver la distribución de valores en 'gender' antes de eliminar\n",
        "print(\"Antes de eliminar:\")\n",
        "print(df['gender'].value_counts())\n",
        "\n",
        "df = df[df['gender'] != 'Other']\n",
        "print(\"Después de eliminar:\")\n",
        "print(df['gender'].value_counts())\n"
      ]
    },
    {
      "cell_type": "code",
      "execution_count": 31,
      "metadata": {
        "colab": {
          "base_uri": "https://localhost:8080/",
          "height": 443
        },
        "id": "DeETGunLiDFi",
        "outputId": "88f8feb0-a5a7-4d60-f968-5fdc8b4506c4"
      },
      "outputs": [
        {
          "data": {
            "text/html": [
              "<div>\n",
              "<style scoped>\n",
              "    .dataframe tbody tr th:only-of-type {\n",
              "        vertical-align: middle;\n",
              "    }\n",
              "\n",
              "    .dataframe tbody tr th {\n",
              "        vertical-align: top;\n",
              "    }\n",
              "\n",
              "    .dataframe thead th {\n",
              "        text-align: right;\n",
              "    }\n",
              "</style>\n",
              "<table border=\"1\" class=\"dataframe\">\n",
              "  <thead>\n",
              "    <tr style=\"text-align: right;\">\n",
              "      <th></th>\n",
              "      <th>gender</th>\n",
              "      <th>age</th>\n",
              "      <th>hypertension</th>\n",
              "      <th>heart_disease</th>\n",
              "      <th>smoking_history</th>\n",
              "      <th>bmi</th>\n",
              "      <th>HbA1c_level</th>\n",
              "      <th>blood_glucose_level</th>\n",
              "      <th>diabetes</th>\n",
              "    </tr>\n",
              "  </thead>\n",
              "  <tbody>\n",
              "    <tr>\n",
              "      <th>0</th>\n",
              "      <td>Female</td>\n",
              "      <td>80.0</td>\n",
              "      <td>0</td>\n",
              "      <td>1</td>\n",
              "      <td>never</td>\n",
              "      <td>25.19</td>\n",
              "      <td>6.6</td>\n",
              "      <td>140</td>\n",
              "      <td>0</td>\n",
              "    </tr>\n",
              "    <tr>\n",
              "      <th>1</th>\n",
              "      <td>Female</td>\n",
              "      <td>54.0</td>\n",
              "      <td>0</td>\n",
              "      <td>0</td>\n",
              "      <td>No Info</td>\n",
              "      <td>27.32</td>\n",
              "      <td>6.6</td>\n",
              "      <td>80</td>\n",
              "      <td>0</td>\n",
              "    </tr>\n",
              "    <tr>\n",
              "      <th>2</th>\n",
              "      <td>Male</td>\n",
              "      <td>28.0</td>\n",
              "      <td>0</td>\n",
              "      <td>0</td>\n",
              "      <td>never</td>\n",
              "      <td>27.32</td>\n",
              "      <td>5.7</td>\n",
              "      <td>158</td>\n",
              "      <td>0</td>\n",
              "    </tr>\n",
              "    <tr>\n",
              "      <th>3</th>\n",
              "      <td>Female</td>\n",
              "      <td>36.0</td>\n",
              "      <td>0</td>\n",
              "      <td>0</td>\n",
              "      <td>current</td>\n",
              "      <td>23.45</td>\n",
              "      <td>5.0</td>\n",
              "      <td>155</td>\n",
              "      <td>0</td>\n",
              "    </tr>\n",
              "    <tr>\n",
              "      <th>4</th>\n",
              "      <td>Male</td>\n",
              "      <td>76.0</td>\n",
              "      <td>1</td>\n",
              "      <td>1</td>\n",
              "      <td>current</td>\n",
              "      <td>20.14</td>\n",
              "      <td>4.8</td>\n",
              "      <td>155</td>\n",
              "      <td>0</td>\n",
              "    </tr>\n",
              "    <tr>\n",
              "      <th>...</th>\n",
              "      <td>...</td>\n",
              "      <td>...</td>\n",
              "      <td>...</td>\n",
              "      <td>...</td>\n",
              "      <td>...</td>\n",
              "      <td>...</td>\n",
              "      <td>...</td>\n",
              "      <td>...</td>\n",
              "      <td>...</td>\n",
              "    </tr>\n",
              "    <tr>\n",
              "      <th>99994</th>\n",
              "      <td>Female</td>\n",
              "      <td>36.0</td>\n",
              "      <td>0</td>\n",
              "      <td>0</td>\n",
              "      <td>No Info</td>\n",
              "      <td>24.60</td>\n",
              "      <td>4.8</td>\n",
              "      <td>145</td>\n",
              "      <td>0</td>\n",
              "    </tr>\n",
              "    <tr>\n",
              "      <th>99996</th>\n",
              "      <td>Female</td>\n",
              "      <td>2.0</td>\n",
              "      <td>0</td>\n",
              "      <td>0</td>\n",
              "      <td>No Info</td>\n",
              "      <td>17.37</td>\n",
              "      <td>6.5</td>\n",
              "      <td>100</td>\n",
              "      <td>0</td>\n",
              "    </tr>\n",
              "    <tr>\n",
              "      <th>99997</th>\n",
              "      <td>Male</td>\n",
              "      <td>66.0</td>\n",
              "      <td>0</td>\n",
              "      <td>0</td>\n",
              "      <td>former</td>\n",
              "      <td>27.83</td>\n",
              "      <td>5.7</td>\n",
              "      <td>155</td>\n",
              "      <td>0</td>\n",
              "    </tr>\n",
              "    <tr>\n",
              "      <th>99998</th>\n",
              "      <td>Female</td>\n",
              "      <td>24.0</td>\n",
              "      <td>0</td>\n",
              "      <td>0</td>\n",
              "      <td>never</td>\n",
              "      <td>35.42</td>\n",
              "      <td>4.0</td>\n",
              "      <td>100</td>\n",
              "      <td>0</td>\n",
              "    </tr>\n",
              "    <tr>\n",
              "      <th>99999</th>\n",
              "      <td>Female</td>\n",
              "      <td>57.0</td>\n",
              "      <td>0</td>\n",
              "      <td>0</td>\n",
              "      <td>current</td>\n",
              "      <td>22.43</td>\n",
              "      <td>6.6</td>\n",
              "      <td>90</td>\n",
              "      <td>0</td>\n",
              "    </tr>\n",
              "  </tbody>\n",
              "</table>\n",
              "<p>89054 rows × 9 columns</p>\n",
              "</div>"
            ],
            "text/plain": [
              "       gender   age  hypertension  heart_disease smoking_history    bmi  \\\n",
              "0      Female  80.0             0              1           never  25.19   \n",
              "1      Female  54.0             0              0         No Info  27.32   \n",
              "2        Male  28.0             0              0           never  27.32   \n",
              "3      Female  36.0             0              0         current  23.45   \n",
              "4        Male  76.0             1              1         current  20.14   \n",
              "...       ...   ...           ...            ...             ...    ...   \n",
              "99994  Female  36.0             0              0         No Info  24.60   \n",
              "99996  Female   2.0             0              0         No Info  17.37   \n",
              "99997    Male  66.0             0              0          former  27.83   \n",
              "99998  Female  24.0             0              0           never  35.42   \n",
              "99999  Female  57.0             0              0         current  22.43   \n",
              "\n",
              "       HbA1c_level  blood_glucose_level  diabetes  \n",
              "0              6.6                  140         0  \n",
              "1              6.6                   80         0  \n",
              "2              5.7                  158         0  \n",
              "3              5.0                  155         0  \n",
              "4              4.8                  155         0  \n",
              "...            ...                  ...       ...  \n",
              "99994          4.8                  145         0  \n",
              "99996          6.5                  100         0  \n",
              "99997          5.7                  155         0  \n",
              "99998          4.0                  100         0  \n",
              "99999          6.6                   90         0  \n",
              "\n",
              "[89054 rows x 9 columns]"
            ]
          },
          "execution_count": 31,
          "metadata": {},
          "output_type": "execute_result"
        }
      ],
      "source": [
        "df"
      ]
    },
    {
      "cell_type": "code",
      "execution_count": 32,
      "metadata": {
        "colab": {
          "base_uri": "https://localhost:8080/"
        },
        "id": "M6BbF5V7k9F9",
        "outputId": "e4017457-9cf3-4bad-e298-b66700590679"
      },
      "outputs": [
        {
          "name": "stdout",
          "output_type": "stream",
          "text": [
            "\n",
            " Limpieza de datos completada.\n"
          ]
        }
      ],
      "source": [
        "# 5. Resetear índices\n",
        "df = df.reset_index(drop=True)\n",
        "\n",
        "print(\"\\n Limpieza de datos completada.\")"
      ]
    },
    {
      "cell_type": "code",
      "execution_count": 33,
      "metadata": {
        "colab": {
          "base_uri": "https://localhost:8080/",
          "height": 443
        },
        "id": "ZNwM4UT8k_mf",
        "outputId": "56661fd7-6210-466e-ee6d-5bd5c81be722"
      },
      "outputs": [
        {
          "data": {
            "text/html": [
              "<div>\n",
              "<style scoped>\n",
              "    .dataframe tbody tr th:only-of-type {\n",
              "        vertical-align: middle;\n",
              "    }\n",
              "\n",
              "    .dataframe tbody tr th {\n",
              "        vertical-align: top;\n",
              "    }\n",
              "\n",
              "    .dataframe thead th {\n",
              "        text-align: right;\n",
              "    }\n",
              "</style>\n",
              "<table border=\"1\" class=\"dataframe\">\n",
              "  <thead>\n",
              "    <tr style=\"text-align: right;\">\n",
              "      <th></th>\n",
              "      <th>gender</th>\n",
              "      <th>age</th>\n",
              "      <th>hypertension</th>\n",
              "      <th>heart_disease</th>\n",
              "      <th>smoking_history</th>\n",
              "      <th>bmi</th>\n",
              "      <th>HbA1c_level</th>\n",
              "      <th>blood_glucose_level</th>\n",
              "      <th>diabetes</th>\n",
              "    </tr>\n",
              "  </thead>\n",
              "  <tbody>\n",
              "    <tr>\n",
              "      <th>0</th>\n",
              "      <td>Female</td>\n",
              "      <td>80.0</td>\n",
              "      <td>0</td>\n",
              "      <td>1</td>\n",
              "      <td>never</td>\n",
              "      <td>25.19</td>\n",
              "      <td>6.6</td>\n",
              "      <td>140</td>\n",
              "      <td>0</td>\n",
              "    </tr>\n",
              "    <tr>\n",
              "      <th>1</th>\n",
              "      <td>Female</td>\n",
              "      <td>54.0</td>\n",
              "      <td>0</td>\n",
              "      <td>0</td>\n",
              "      <td>No Info</td>\n",
              "      <td>27.32</td>\n",
              "      <td>6.6</td>\n",
              "      <td>80</td>\n",
              "      <td>0</td>\n",
              "    </tr>\n",
              "    <tr>\n",
              "      <th>2</th>\n",
              "      <td>Male</td>\n",
              "      <td>28.0</td>\n",
              "      <td>0</td>\n",
              "      <td>0</td>\n",
              "      <td>never</td>\n",
              "      <td>27.32</td>\n",
              "      <td>5.7</td>\n",
              "      <td>158</td>\n",
              "      <td>0</td>\n",
              "    </tr>\n",
              "    <tr>\n",
              "      <th>3</th>\n",
              "      <td>Female</td>\n",
              "      <td>36.0</td>\n",
              "      <td>0</td>\n",
              "      <td>0</td>\n",
              "      <td>current</td>\n",
              "      <td>23.45</td>\n",
              "      <td>5.0</td>\n",
              "      <td>155</td>\n",
              "      <td>0</td>\n",
              "    </tr>\n",
              "    <tr>\n",
              "      <th>4</th>\n",
              "      <td>Male</td>\n",
              "      <td>76.0</td>\n",
              "      <td>1</td>\n",
              "      <td>1</td>\n",
              "      <td>current</td>\n",
              "      <td>20.14</td>\n",
              "      <td>4.8</td>\n",
              "      <td>155</td>\n",
              "      <td>0</td>\n",
              "    </tr>\n",
              "    <tr>\n",
              "      <th>...</th>\n",
              "      <td>...</td>\n",
              "      <td>...</td>\n",
              "      <td>...</td>\n",
              "      <td>...</td>\n",
              "      <td>...</td>\n",
              "      <td>...</td>\n",
              "      <td>...</td>\n",
              "      <td>...</td>\n",
              "      <td>...</td>\n",
              "    </tr>\n",
              "    <tr>\n",
              "      <th>89049</th>\n",
              "      <td>Female</td>\n",
              "      <td>36.0</td>\n",
              "      <td>0</td>\n",
              "      <td>0</td>\n",
              "      <td>No Info</td>\n",
              "      <td>24.60</td>\n",
              "      <td>4.8</td>\n",
              "      <td>145</td>\n",
              "      <td>0</td>\n",
              "    </tr>\n",
              "    <tr>\n",
              "      <th>89050</th>\n",
              "      <td>Female</td>\n",
              "      <td>2.0</td>\n",
              "      <td>0</td>\n",
              "      <td>0</td>\n",
              "      <td>No Info</td>\n",
              "      <td>17.37</td>\n",
              "      <td>6.5</td>\n",
              "      <td>100</td>\n",
              "      <td>0</td>\n",
              "    </tr>\n",
              "    <tr>\n",
              "      <th>89051</th>\n",
              "      <td>Male</td>\n",
              "      <td>66.0</td>\n",
              "      <td>0</td>\n",
              "      <td>0</td>\n",
              "      <td>former</td>\n",
              "      <td>27.83</td>\n",
              "      <td>5.7</td>\n",
              "      <td>155</td>\n",
              "      <td>0</td>\n",
              "    </tr>\n",
              "    <tr>\n",
              "      <th>89052</th>\n",
              "      <td>Female</td>\n",
              "      <td>24.0</td>\n",
              "      <td>0</td>\n",
              "      <td>0</td>\n",
              "      <td>never</td>\n",
              "      <td>35.42</td>\n",
              "      <td>4.0</td>\n",
              "      <td>100</td>\n",
              "      <td>0</td>\n",
              "    </tr>\n",
              "    <tr>\n",
              "      <th>89053</th>\n",
              "      <td>Female</td>\n",
              "      <td>57.0</td>\n",
              "      <td>0</td>\n",
              "      <td>0</td>\n",
              "      <td>current</td>\n",
              "      <td>22.43</td>\n",
              "      <td>6.6</td>\n",
              "      <td>90</td>\n",
              "      <td>0</td>\n",
              "    </tr>\n",
              "  </tbody>\n",
              "</table>\n",
              "<p>89054 rows × 9 columns</p>\n",
              "</div>"
            ],
            "text/plain": [
              "       gender   age  hypertension  heart_disease smoking_history    bmi  \\\n",
              "0      Female  80.0             0              1           never  25.19   \n",
              "1      Female  54.0             0              0         No Info  27.32   \n",
              "2        Male  28.0             0              0           never  27.32   \n",
              "3      Female  36.0             0              0         current  23.45   \n",
              "4        Male  76.0             1              1         current  20.14   \n",
              "...       ...   ...           ...            ...             ...    ...   \n",
              "89049  Female  36.0             0              0         No Info  24.60   \n",
              "89050  Female   2.0             0              0         No Info  17.37   \n",
              "89051    Male  66.0             0              0          former  27.83   \n",
              "89052  Female  24.0             0              0           never  35.42   \n",
              "89053  Female  57.0             0              0         current  22.43   \n",
              "\n",
              "       HbA1c_level  blood_glucose_level  diabetes  \n",
              "0              6.6                  140         0  \n",
              "1              6.6                   80         0  \n",
              "2              5.7                  158         0  \n",
              "3              5.0                  155         0  \n",
              "4              4.8                  155         0  \n",
              "...            ...                  ...       ...  \n",
              "89049          4.8                  145         0  \n",
              "89050          6.5                  100         0  \n",
              "89051          5.7                  155         0  \n",
              "89052          4.0                  100         0  \n",
              "89053          6.6                   90         0  \n",
              "\n",
              "[89054 rows x 9 columns]"
            ]
          },
          "execution_count": 33,
          "metadata": {},
          "output_type": "execute_result"
        }
      ],
      "source": [
        "df"
      ]
    },
    {
      "cell_type": "markdown",
      "metadata": {
        "id": "VBeUg0jjmA3m"
      },
      "source": [
        "Vamos a guardar el nuevo data set limpio"
      ]
    },
    {
      "cell_type": "code",
      "execution_count": null,
      "metadata": {
        "colab": {
          "base_uri": "https://localhost:8080/"
        },
        "id": "M_n9NktimAln",
        "outputId": "e6e9b9e4-45de-466c-caa8-05a048e6caab"
      },
      "outputs": [
        {
          "name": "stdout",
          "output_type": "stream",
          "text": [
            " Dataset limpio guardado exitosamente como 'dataset.csv' en: dataset.csv\n"
          ]
        }
      ],
      "source": [
        "dataset  = \"dataset.csv\"\n",
        "\n",
        "df.to_csv(dataset , index=False)\n",
        "\n",
        "print(f\" Dataset limpio guardado exitosamente como 'dataset.csv' en: {dataset }\")\n"
      ]
    },
    {
      "cell_type": "markdown",
      "metadata": {
        "id": "hHJ5HOdjom4o"
      },
      "source": [
        "#Transformación de datos"
      ]
    },
    {
      "cell_type": "code",
      "execution_count": 36,
      "metadata": {
        "colab": {
          "base_uri": "https://localhost:8080/",
          "height": 552
        },
        "id": "WyxFvVrgkxuk",
        "outputId": "7b828673-2c6f-4f3b-e52d-f06f53eaae30"
      },
      "outputs": [
        {
          "name": "stdout",
          "output_type": "stream",
          "text": [
            "smoking_history\n",
            "Never        31592\n",
            "Unknown      31254\n",
            "Ex-smoker    17748\n",
            "Current       8460\n",
            "Name: count, dtype: int64\n"
          ]
        },
        {
          "data": {
            "text/html": [
              "<div>\n",
              "<style scoped>\n",
              "    .dataframe tbody tr th:only-of-type {\n",
              "        vertical-align: middle;\n",
              "    }\n",
              "\n",
              "    .dataframe tbody tr th {\n",
              "        vertical-align: top;\n",
              "    }\n",
              "\n",
              "    .dataframe thead th {\n",
              "        text-align: right;\n",
              "    }\n",
              "</style>\n",
              "<table border=\"1\" class=\"dataframe\">\n",
              "  <thead>\n",
              "    <tr style=\"text-align: right;\">\n",
              "      <th></th>\n",
              "      <th>gender</th>\n",
              "      <th>age</th>\n",
              "      <th>hypertension</th>\n",
              "      <th>heart_disease</th>\n",
              "      <th>smoking_history</th>\n",
              "      <th>bmi</th>\n",
              "      <th>HbA1c_level</th>\n",
              "      <th>blood_glucose_level</th>\n",
              "      <th>diabetes</th>\n",
              "    </tr>\n",
              "  </thead>\n",
              "  <tbody>\n",
              "    <tr>\n",
              "      <th>0</th>\n",
              "      <td>Female</td>\n",
              "      <td>80.0</td>\n",
              "      <td>0</td>\n",
              "      <td>1</td>\n",
              "      <td>Never</td>\n",
              "      <td>25.19</td>\n",
              "      <td>6.6</td>\n",
              "      <td>140</td>\n",
              "      <td>0</td>\n",
              "    </tr>\n",
              "    <tr>\n",
              "      <th>1</th>\n",
              "      <td>Female</td>\n",
              "      <td>54.0</td>\n",
              "      <td>0</td>\n",
              "      <td>0</td>\n",
              "      <td>Unknown</td>\n",
              "      <td>27.32</td>\n",
              "      <td>6.6</td>\n",
              "      <td>80</td>\n",
              "      <td>0</td>\n",
              "    </tr>\n",
              "    <tr>\n",
              "      <th>2</th>\n",
              "      <td>Male</td>\n",
              "      <td>28.0</td>\n",
              "      <td>0</td>\n",
              "      <td>0</td>\n",
              "      <td>Never</td>\n",
              "      <td>27.32</td>\n",
              "      <td>5.7</td>\n",
              "      <td>158</td>\n",
              "      <td>0</td>\n",
              "    </tr>\n",
              "    <tr>\n",
              "      <th>3</th>\n",
              "      <td>Female</td>\n",
              "      <td>36.0</td>\n",
              "      <td>0</td>\n",
              "      <td>0</td>\n",
              "      <td>Current</td>\n",
              "      <td>23.45</td>\n",
              "      <td>5.0</td>\n",
              "      <td>155</td>\n",
              "      <td>0</td>\n",
              "    </tr>\n",
              "    <tr>\n",
              "      <th>4</th>\n",
              "      <td>Male</td>\n",
              "      <td>76.0</td>\n",
              "      <td>1</td>\n",
              "      <td>1</td>\n",
              "      <td>Current</td>\n",
              "      <td>20.14</td>\n",
              "      <td>4.8</td>\n",
              "      <td>155</td>\n",
              "      <td>0</td>\n",
              "    </tr>\n",
              "    <tr>\n",
              "      <th>...</th>\n",
              "      <td>...</td>\n",
              "      <td>...</td>\n",
              "      <td>...</td>\n",
              "      <td>...</td>\n",
              "      <td>...</td>\n",
              "      <td>...</td>\n",
              "      <td>...</td>\n",
              "      <td>...</td>\n",
              "      <td>...</td>\n",
              "    </tr>\n",
              "    <tr>\n",
              "      <th>89049</th>\n",
              "      <td>Female</td>\n",
              "      <td>36.0</td>\n",
              "      <td>0</td>\n",
              "      <td>0</td>\n",
              "      <td>Unknown</td>\n",
              "      <td>24.60</td>\n",
              "      <td>4.8</td>\n",
              "      <td>145</td>\n",
              "      <td>0</td>\n",
              "    </tr>\n",
              "    <tr>\n",
              "      <th>89050</th>\n",
              "      <td>Female</td>\n",
              "      <td>2.0</td>\n",
              "      <td>0</td>\n",
              "      <td>0</td>\n",
              "      <td>Unknown</td>\n",
              "      <td>17.37</td>\n",
              "      <td>6.5</td>\n",
              "      <td>100</td>\n",
              "      <td>0</td>\n",
              "    </tr>\n",
              "    <tr>\n",
              "      <th>89051</th>\n",
              "      <td>Male</td>\n",
              "      <td>66.0</td>\n",
              "      <td>0</td>\n",
              "      <td>0</td>\n",
              "      <td>Ex-smoker</td>\n",
              "      <td>27.83</td>\n",
              "      <td>5.7</td>\n",
              "      <td>155</td>\n",
              "      <td>0</td>\n",
              "    </tr>\n",
              "    <tr>\n",
              "      <th>89052</th>\n",
              "      <td>Female</td>\n",
              "      <td>24.0</td>\n",
              "      <td>0</td>\n",
              "      <td>0</td>\n",
              "      <td>Never</td>\n",
              "      <td>35.42</td>\n",
              "      <td>4.0</td>\n",
              "      <td>100</td>\n",
              "      <td>0</td>\n",
              "    </tr>\n",
              "    <tr>\n",
              "      <th>89053</th>\n",
              "      <td>Female</td>\n",
              "      <td>57.0</td>\n",
              "      <td>0</td>\n",
              "      <td>0</td>\n",
              "      <td>Current</td>\n",
              "      <td>22.43</td>\n",
              "      <td>6.6</td>\n",
              "      <td>90</td>\n",
              "      <td>0</td>\n",
              "    </tr>\n",
              "  </tbody>\n",
              "</table>\n",
              "<p>89054 rows × 9 columns</p>\n",
              "</div>"
            ],
            "text/plain": [
              "       gender   age  hypertension  heart_disease smoking_history    bmi  \\\n",
              "0      Female  80.0             0              1           Never  25.19   \n",
              "1      Female  54.0             0              0         Unknown  27.32   \n",
              "2        Male  28.0             0              0           Never  27.32   \n",
              "3      Female  36.0             0              0         Current  23.45   \n",
              "4        Male  76.0             1              1         Current  20.14   \n",
              "...       ...   ...           ...            ...             ...    ...   \n",
              "89049  Female  36.0             0              0         Unknown  24.60   \n",
              "89050  Female   2.0             0              0         Unknown  17.37   \n",
              "89051    Male  66.0             0              0       Ex-smoker  27.83   \n",
              "89052  Female  24.0             0              0           Never  35.42   \n",
              "89053  Female  57.0             0              0         Current  22.43   \n",
              "\n",
              "       HbA1c_level  blood_glucose_level  diabetes  \n",
              "0              6.6                  140         0  \n",
              "1              6.6                   80         0  \n",
              "2              5.7                  158         0  \n",
              "3              5.0                  155         0  \n",
              "4              4.8                  155         0  \n",
              "...            ...                  ...       ...  \n",
              "89049          4.8                  145         0  \n",
              "89050          6.5                  100         0  \n",
              "89051          5.7                  155         0  \n",
              "89052          4.0                  100         0  \n",
              "89053          6.6                   90         0  \n",
              "\n",
              "[89054 rows x 9 columns]"
            ]
          },
          "execution_count": 36,
          "metadata": {},
          "output_type": "execute_result"
        }
      ],
      "source": [
        "# Tratar valores en columna smoking_history\n",
        "map_smoking = {\n",
        "    'No Info': 'Unknown',\n",
        "    'never': 'Never',\n",
        "    'former': 'Ex-smoker',\n",
        "    'not current': 'Ex-smoker',\n",
        "    'ever': 'Ex-smoker',\n",
        "    'current': 'Current'\n",
        "}\n",
        "\n",
        "df['smoking_history'] = df['smoking_history'].map(map_smoking)\n",
        "\n",
        "print(df['smoking_history'].value_counts())\n",
        "\n",
        "df"
      ]
    },
    {
      "cell_type": "code",
      "execution_count": 37,
      "metadata": {
        "colab": {
          "base_uri": "https://localhost:8080/"
        },
        "id": "0lB57wiLfsGu",
        "outputId": "f8630643-b9e5-4c6e-8dee-2c09e05a9c5e"
      },
      "outputs": [
        {
          "name": "stdout",
          "output_type": "stream",
          "text": [
            "Distribución después de codificar:\n",
            "smoking_history\n",
            "2    31592\n",
            "3    31254\n",
            "1    17748\n",
            "0     8460\n",
            "Name: count, dtype: int64\n",
            "Clases codificadas: ['Current' 'Ex-smoker' 'Never' 'Unknown']\n"
          ]
        }
      ],
      "source": [
        "# Codificar smoking_history\n",
        "from sklearn.preprocessing import LabelEncoder\n",
        "\n",
        "le_smoking = LabelEncoder()\n",
        "df['smoking_history'] = le_smoking.fit_transform(df['smoking_history'])\n",
        "\n",
        "print(\"Distribución después de codificar:\")\n",
        "print(df['smoking_history'].value_counts())\n",
        "print(\"Clases codificadas:\", le_smoking.classes_)\n"
      ]
    },
    {
      "cell_type": "code",
      "execution_count": 38,
      "metadata": {
        "colab": {
          "base_uri": "https://localhost:8080/"
        },
        "id": "FvNKxmHFfJv6",
        "outputId": "827765c0-8a8a-4be8-9006-1963399dc37d"
      },
      "outputs": [
        {
          "name": "stdout",
          "output_type": "stream",
          "text": [
            "gender\n",
            "0    51610\n",
            "1    37444\n",
            "Name: count, dtype: int64\n",
            "['Female' 'Male']\n"
          ]
        }
      ],
      "source": [
        "from sklearn.preprocessing import LabelEncoder\n",
        "\n",
        "#Codificar la columna 'gender'\n",
        "le_gender = LabelEncoder()\n",
        "df['gender'] = le_gender.fit_transform(df['gender'])\n",
        "\n",
        "print(df['gender'].value_counts())\n",
        "print(le_gender.classes_)\n"
      ]
    },
    {
      "cell_type": "code",
      "execution_count": 39,
      "metadata": {
        "colab": {
          "base_uri": "https://localhost:8080/"
        },
        "id": "HfRmSVIKi0QD",
        "outputId": "37127c1d-e756-48be-c657-5167eea620a0"
      },
      "outputs": [
        {
          "name": "stdout",
          "output_type": "stream",
          "text": [
            "<class 'pandas.core.frame.DataFrame'>\n",
            "RangeIndex: 89054 entries, 0 to 89053\n",
            "Data columns (total 9 columns):\n",
            " #   Column               Non-Null Count  Dtype  \n",
            "---  ------               --------------  -----  \n",
            " 0   gender               89054 non-null  int64  \n",
            " 1   age                  89054 non-null  float64\n",
            " 2   hypertension         89054 non-null  int64  \n",
            " 3   heart_disease        89054 non-null  int64  \n",
            " 4   smoking_history      89054 non-null  int64  \n",
            " 5   bmi                  89054 non-null  float64\n",
            " 6   HbA1c_level          89054 non-null  float64\n",
            " 7   blood_glucose_level  89054 non-null  int64  \n",
            " 8   diabetes             89054 non-null  int64  \n",
            "dtypes: float64(3), int64(6)\n",
            "memory usage: 6.1 MB\n"
          ]
        }
      ],
      "source": [
        "df.info()"
      ]
    },
    {
      "cell_type": "markdown",
      "metadata": {
        "id": "WHj54ElKweiR"
      },
      "source": [
        "#Entrenamiento del Modelo"
      ]
    },
    {
      "cell_type": "code",
      "execution_count": 40,
      "metadata": {
        "colab": {
          "base_uri": "https://localhost:8080/"
        },
        "id": "8IXrugxtwluB",
        "outputId": "992c5968-107d-4043-d856-d5b60f60d8ef"
      },
      "outputs": [
        {
          "name": "stdout",
          "output_type": "stream",
          "text": [
            "Entrenamiento: 62339 muestras\n",
            "Prueba:        17809 muestras\n",
            "Validación:    8906 muestras\n"
          ]
        }
      ],
      "source": [
        "#División del conjunto de datos\n",
        "from sklearn.model_selection import train_test_split\n",
        "\n",
        "X = df.drop(columns='diabetes')\n",
        "y = df['diabetes']\n",
        "\n",
        "X_temp, X_val, y_temp, y_val = train_test_split(X, y, test_size=0.10, random_state=42, stratify=y)\n",
        "\n",
        "X_train, X_test, y_train, y_test = train_test_split(X_temp, y_temp, test_size=0.2222, random_state=42, stratify=y_temp)\n",
        "\n",
        "print(f\"Entrenamiento: {X_train.shape[0]} muestras\")\n",
        "print(f\"Prueba:        {X_test.shape[0]} muestras\")\n",
        "print(f\"Validación:    {X_val.shape[0]} muestras\")\n"
      ]
    },
    {
      "cell_type": "code",
      "execution_count": 47,
      "metadata": {
        "colab": {
          "base_uri": "https://localhost:8080/",
          "height": 563
        },
        "id": "EgNrOk4ZlUrW",
        "outputId": "71d9007b-6141-420d-8661-f0c5856a2a12"
      },
      "outputs": [
        {
          "name": "stdout",
          "output_type": "stream",
          "text": [
            " Métricas en entrenamiento:\n",
            "Accuracy:  0.9992\n",
            "Precision: 0.9995\n",
            "Recall:    0.9880\n",
            "F1 Score:  0.9937\n"
          ]
        },
        {
          "data": {
            "image/png": "[encoded data removed]",
            "text/plain": [
              "<Figure size 640x480 with 2 Axes>"
            ]
          },
          "metadata": {},
          "output_type": "display_data"
        },
        {
          "name": "stdout",
          "output_type": "stream",
          "text": [
            "✅ Modelo guardado como rf_model.pkl\n"
          ]
        }
      ],
      "source": [
        "from sklearn.ensemble import RandomForestClassifier\n",
        "from sklearn.metrics import accuracy_score, precision_score, recall_score, f1_score, confusion_matrix, ConfusionMatrixDisplay\n",
        "import matplotlib.pyplot as plt\n",
        "\n",
        "rf_model = RandomForestClassifier(n_estimators=100, random_state=42)\n",
        "rf_model.fit(X_train, y_train)\n",
        "\n",
        "y_pred_train = rf_model.predict(X_train)\n",
        "\n",
        "acc = accuracy_score(y_train, y_pred_train)\n",
        "precision = precision_score(y_train, y_pred_train)\n",
        "recall = recall_score(y_train, y_pred_train)\n",
        "f1 = f1_score(y_train, y_pred_train)\n",
        "\n",
        "print(\" Métricas en entrenamiento:\")\n",
        "print(f\"Accuracy:  {acc:.4f}\")\n",
        "print(f\"Precision: {precision:.4f}\")\n",
        "print(f\"Recall:    {recall:.4f}\")\n",
        "print(f\"F1 Score:  {f1:.4f}\")\n",
        "\n",
        "cm = confusion_matrix(y_train, y_pred_train)\n",
        "disp = ConfusionMatrixDisplay(confusion_matrix=cm, display_labels=rf_model.classes_)\n",
        "disp.plot(cmap='Blues')\n",
        "plt.title(\"Matriz de Confusión - Entrenamiento\")\n",
        "plt.show()\n",
        "\n",
        "# Guardar el modelo entrenado\n",
        "joblib.dump(rf_model, 'rf_model.pkl')\n",
        "print(\"✅ Modelo guardado como rf_model.pkl\")"
      ]
    },
    {
      "cell_type": "markdown",
      "metadata": {
        "id": "DPTj-daC18aD"
      },
      "source": [
        "#Evaluación y validación"
      ]
    },
    {
      "cell_type": "code",
      "execution_count": 42,
      "metadata": {
        "colab": {
          "base_uri": "https://localhost:8080/",
          "height": 563
        },
        "id": "xmbyoz5ElpIr",
        "outputId": "f5a2b477-66cd-49a0-e6cb-abbadd76a35e"
      },
      "outputs": [
        {
          "name": "stdout",
          "output_type": "stream",
          "text": [
            " Métricas en prueba:\n",
            "Accuracy:  0.9713\n",
            "Precision: 0.9224\n",
            "Recall:    0.5842\n",
            "F1 Score:  0.7153\n"
          ]
        },
        {
          "data": {
            "image/png": "[encoded data removed]",
            "text/plain": [
              "<Figure size 640x480 with 2 Axes>"
            ]
          },
          "metadata": {},
          "output_type": "display_data"
        }
      ],
      "source": [
        "\n",
        "y_pred_test = rf_model.predict(X_test)\n",
        "\n",
        "acc_test = accuracy_score(y_test, y_pred_test)\n",
        "precision_test = precision_score(y_test, y_pred_test)\n",
        "recall_test = recall_score(y_test, y_pred_test)\n",
        "f1_test = f1_score(y_test, y_pred_test)\n",
        "\n",
        "\n",
        "print(\" Métricas en prueba:\")\n",
        "print(f\"Accuracy:  {acc_test:.4f}\")\n",
        "print(f\"Precision: {precision_test:.4f}\")\n",
        "print(f\"Recall:    {recall_test:.4f}\")\n",
        "print(f\"F1 Score:  {f1_test:.4f}\")\n",
        "\n",
        "cm_test = confusion_matrix(y_test, y_pred_test)\n",
        "disp_test = ConfusionMatrixDisplay(confusion_matrix=cm_test, display_labels=rf_model.classes_)\n",
        "disp_test.plot(cmap='Oranges')\n",
        "plt.title(\"Matriz de Confusión - Prueba\")\n",
        "plt.show()\n"
      ]
    },
    {
      "cell_type": "code",
      "execution_count": 43,
      "metadata": {
        "colab": {
          "base_uri": "https://localhost:8080/",
          "height": 563
        },
        "id": "hC7sZdIMmAxY",
        "outputId": "4c99c7f8-80aa-4368-ea5b-4abefb9f6e29"
      },
      "outputs": [
        {
          "name": "stdout",
          "output_type": "stream",
          "text": [
            "Métricas en validación:\n",
            "Accuracy:  0.9716\n",
            "Precision: 0.9183\n",
            "Recall:    0.5927\n",
            "F1 Score:  0.7204\n"
          ]
        },
        {
          "data": {
            "image/png": "[encoded data removed]",
            "text/plain": [
              "<Figure size 640x480 with 2 Axes>"
            ]
          },
          "metadata": {},
          "output_type": "display_data"
        }
      ],
      "source": [
        "y_pred_val = rf_model.predict(X_val)\n",
        "\n",
        "acc_val = accuracy_score(y_val, y_pred_val)\n",
        "precision_val = precision_score(y_val, y_pred_val)\n",
        "recall_val = recall_score(y_val, y_pred_val)\n",
        "f1_val = f1_score(y_val, y_pred_val)\n",
        "\n",
        "print(\"Métricas en validación:\")\n",
        "print(f\"Accuracy:  {acc_val:.4f}\")\n",
        "print(f\"Precision: {precision_val:.4f}\")\n",
        "print(f\"Recall:    {recall_val:.4f}\")\n",
        "print(f\"F1 Score:  {f1_val:.4f}\")\n",
        "\n",
        "cm_val = confusion_matrix(y_val, y_pred_val)\n",
        "disp_val = ConfusionMatrixDisplay(confusion_matrix=cm_val, display_labels=rf_model.classes_)\n",
        "disp_val.plot(cmap='Greens')\n",
        "plt.title(\"Matriz de Confusión - Validación\")\n",
        "plt.show()\n"
      ]
    },
    {
      "cell_type": "markdown",
      "metadata": {
        "id": "s3VVQAYEnLXE"
      },
      "source": [
        "DEBIDO A QUE LAS METRICAS DECIENDEN EN EL CONJUTNO DE PRUEBA Y VALIDACIÓN, VAMOS A AJUSTAR ALGUNOS PARAMETROS PARA MANTENER LAS METRICAS LO MAS ALTAS POSIBLES"
      ]
    },
    {
      "cell_type": "markdown",
      "metadata": {
        "id": "reu1T9cw8Zo8"
      },
      "source": [
        "#Prueba del modelo"
      ]
    },
    {
      "cell_type": "code",
      "execution_count": 44,
      "metadata": {
        "colab": {
          "base_uri": "https://localhost:8080/"
        },
        "id": "0HaiiqQ189sD",
        "outputId": "cfbf9213-48ae-4041-e878-6fcadec9c04d"
      },
      "outputs": [
        {
          "name": "stdout",
          "output_type": "stream",
          "text": [
            "Por favor, ingresa los siguientes datos para hacer la predicción:\n",
            "\n",
            "¡Felicidades! No tienes diabetes. ¡Sigue cuidando tu salud!\n"
          ]
        }
      ],
      "source": [
        "import pandas as pd\n",
        "\n",
        "def predict_diabetes(model):\n",
        "    print(\"Por favor, ingresa los siguientes datos para hacer la predicción:\")\n",
        "\n",
        "    gender = int(input(\"Género (0 para Female, 1 para Male): \"))\n",
        "    age = float(input(\"Edad: \"))\n",
        "    hypertension = int(input(\"¿Tienes hipertensión? (1 para sí, 0 para no): \"))\n",
        "    heart_disease = int(input(\"¿Tienes enfermedades del corazón? (1 para sí, 0 para no): \"))\n",
        "    smoking_history = int(input(\"Historial de tabaquismo (0: Never, 1: Unknown, 2: Ex-smoker, 3: Current): \"))\n",
        "    bmi = float(input(\"Índice de masa corporal (BMI): \"))\n",
        "    HbA1c_level = float(input(\"Nivel de hemoglobina glicosilada (%): \"))\n",
        "    blood_glucose_level = float(input(\"Nivel de glucosa en sangre: \"))\n",
        "\n",
        "    input_data = pd.DataFrame({\n",
        "        'gender': [gender],\n",
        "        'age': [age],\n",
        "        'hypertension': [hypertension],\n",
        "        'heart_disease': [heart_disease],\n",
        "        'smoking_history': [smoking_history],\n",
        "        'bmi': [bmi],\n",
        "        'HbA1c_level': [HbA1c_level],\n",
        "        'blood_glucose_level': [blood_glucose_level]\n",
        "    })\n",
        "\n",
        "    prediction = model.predict(input_data)[0]\n",
        "\n",
        "    if prediction == 1:\n",
        "        print(\"\\n¡Lo siento! Tienes diabetes. Es importante que consultes con un médico.\")\n",
        "        print(\"Consejos para manejar la diabetes:\")\n",
        "        print(\"- Monitorea tus niveles de glucosa regularmente.\")\n",
        "        print(\"- Mantén una dieta equilibrada baja en azúcares.\")\n",
        "        print(\"- Realiza ejercicio físico moderado.\")\n",
        "    else:\n",
        "        print(\"\\n¡Felicidades! No tienes diabetes. ¡Sigue cuidando tu salud!\")\n",
        "\n",
        "predict_diabetes(rf_model)"
      ]
    },
    {
      "cell_type": "code",
      "execution_count": 45,
      "metadata": {
        "id": "0jCVs3RcK4VP"
      },
      "outputs": [
        {
          "name": "stdout",
          "output_type": "stream",
          "text": [
            "Collecting gradio\n",
            "  Downloading gradio-5.35.0-py3-none-any.whl.metadata (16 kB)\n",
            "Collecting aiofiles<25.0,>=22.0 (from gradio)\n",
            "  Downloading aiofiles-24.1.0-py3-none-any.whl.metadata (10 kB)\n",
            "Collecting anyio<5.0,>=3.0 (from gradio)\n",
            "  Downloading anyio-4.9.0-py3-none-any.whl.metadata (4.7 kB)\n",
            "Collecting fastapi<1.0,>=0.115.2 (from gradio)\n",
            "  Downloading fastapi-0.115.14-py3-none-any.whl.metadata (27 kB)\n",
            "Collecting ffmpy (from gradio)\n",
            "  Downloading ffmpy-0.6.0-py3-none-any.whl.metadata (2.9 kB)\n",
            "Collecting gradio-client==1.10.4 (from gradio)\n",
            "  Downloading gradio_client-1.10.4-py3-none-any.whl.metadata (7.1 kB)\n",
            "Collecting groovy~=0.1 (from gradio)\n",
            "  Downloading groovy-0.1.2-py3-none-any.whl.metadata (6.1 kB)\n",
            "Collecting httpx>=0.24.1 (from gradio)\n",
            "  Downloading httpx-0.28.1-py3-none-any.whl.metadata (7.1 kB)\n",
            "Requirement already satisfied: huggingface-hub>=0.28.1 in c:\\users\\administrador\\anaconda3\\envs\\bert-es\\lib\\site-packages (from gradio) (0.33.1)\n",
            "Requirement already satisfied: jinja2<4.0 in c:\\users\\administrador\\anaconda3\\envs\\bert-es\\lib\\site-packages (from gradio) (3.1.4)\n",
            "Requirement already satisfied: markupsafe<4.0,>=2.0 in c:\\users\\administrador\\anaconda3\\envs\\bert-es\\lib\\site-packages (from gradio) (2.1.5)\n",
            "Requirement already satisfied: numpy<3.0,>=1.0 in c:\\users\\administrador\\anaconda3\\envs\\bert-es\\lib\\site-packages (from gradio) (2.0.1)\n",
            "Collecting orjson~=3.0 (from gradio)\n",
            "  Downloading orjson-3.10.18-cp310-cp310-win_amd64.whl.metadata (43 kB)\n",
            "Requirement already satisfied: packaging in c:\\users\\administrador\\anaconda3\\envs\\bert-es\\lib\\site-packages (from gradio) (25.0)\n",
            "Requirement already satisfied: pandas<3.0,>=1.0 in c:\\users\\administrador\\anaconda3\\envs\\bert-es\\lib\\site-packages (from gradio) (2.2.3)\n",
            "Requirement already satisfied: pillow<12.0,>=8.0 in c:\\users\\administrador\\anaconda3\\envs\\bert-es\\lib\\site-packages (from gradio) (11.0.0)\n",
            "Collecting pydantic<2.12,>=2.0 (from gradio)\n",
            "  Downloading pydantic-2.11.7-py3-none-any.whl.metadata (67 kB)\n",
            "Collecting pydub (from gradio)\n",
            "  Downloading pydub-0.25.1-py2.py3-none-any.whl.metadata (1.4 kB)\n",
            "Collecting python-multipart>=0.0.18 (from gradio)\n",
            "  Downloading python_multipart-0.0.20-py3-none-any.whl.metadata (1.8 kB)\n",
            "Requirement already satisfied: pyyaml<7.0,>=5.0 in c:\\users\\administrador\\anaconda3\\envs\\bert-es\\lib\\site-packages (from gradio) (6.0.2)\n",
            "Collecting ruff>=0.9.3 (from gradio)\n",
            "  Downloading ruff-0.12.1-py3-none-win_amd64.whl.metadata (26 kB)\n",
            "Collecting safehttpx<0.2.0,>=0.1.6 (from gradio)\n",
            "  Downloading safehttpx-0.1.6-py3-none-any.whl.metadata (4.2 kB)\n",
            "Collecting semantic-version~=2.0 (from gradio)\n",
            "  Downloading semantic_version-2.10.0-py2.py3-none-any.whl.metadata (9.7 kB)\n",
            "Collecting starlette<1.0,>=0.40.0 (from gradio)\n",
            "  Downloading starlette-0.47.1-py3-none-any.whl.metadata (6.2 kB)\n",
            "Collecting tomlkit<0.14.0,>=0.12.0 (from gradio)\n",
            "  Downloading tomlkit-0.13.3-py3-none-any.whl.metadata (2.8 kB)\n",
            "Collecting typer<1.0,>=0.12 (from gradio)\n",
            "  Downloading typer-0.16.0-py3-none-any.whl.metadata (15 kB)\n",
            "Requirement already satisfied: typing-extensions~=4.0 in c:\\users\\administrador\\anaconda3\\envs\\bert-es\\lib\\site-packages (from gradio) (4.12.2)\n",
            "Collecting uvicorn>=0.14.0 (from gradio)\n",
            "  Downloading uvicorn-0.35.0-py3-none-any.whl.metadata (6.5 kB)\n",
            "Requirement already satisfied: fsspec in c:\\users\\administrador\\anaconda3\\envs\\bert-es\\lib\\site-packages (from gradio-client==1.10.4->gradio) (2024.6.1)\n",
            "Collecting websockets<16.0,>=10.0 (from gradio-client==1.10.4->gradio)\n",
            "  Downloading websockets-15.0.1-cp310-cp310-win_amd64.whl.metadata (7.0 kB)\n",
            "Requirement already satisfied: exceptiongroup>=1.0.2 in c:\\users\\administrador\\anaconda3\\envs\\bert-es\\lib\\site-packages (from anyio<5.0,>=3.0->gradio) (1.3.0)\n",
            "Requirement already satisfied: idna>=2.8 in c:\\users\\administrador\\anaconda3\\envs\\bert-es\\lib\\site-packages (from anyio<5.0,>=3.0->gradio) (3.10)\n",
            "Collecting sniffio>=1.1 (from anyio<5.0,>=3.0->gradio)\n",
            "  Downloading sniffio-1.3.1-py3-none-any.whl.metadata (3.9 kB)\n",
            "Collecting starlette<1.0,>=0.40.0 (from gradio)\n",
            "  Downloading starlette-0.46.2-py3-none-any.whl.metadata (6.2 kB)\n",
            "Requirement already satisfied: python-dateutil>=2.8.2 in c:\\users\\administrador\\anaconda3\\envs\\bert-es\\lib\\site-packages (from pandas<3.0,>=1.0->gradio) (2.9.0.post0)\n",
            "Requirement already satisfied: pytz>=2020.1 in c:\\users\\administrador\\anaconda3\\envs\\bert-es\\lib\\site-packages (from pandas<3.0,>=1.0->gradio) (2024.1)\n",
            "Requirement already satisfied: tzdata>=2022.7 in c:\\users\\administrador\\anaconda3\\envs\\bert-es\\lib\\site-packages (from pandas<3.0,>=1.0->gradio) (2025.2)\n",
            "Collecting annotated-types>=0.6.0 (from pydantic<2.12,>=2.0->gradio)\n",
            "  Downloading annotated_types-0.7.0-py3-none-any.whl.metadata (15 kB)\n",
            "Collecting pydantic-core==2.33.2 (from pydantic<2.12,>=2.0->gradio)\n",
            "  Downloading pydantic_core-2.33.2-cp310-cp310-win_amd64.whl.metadata (6.9 kB)\n",
            "Collecting typing-inspection>=0.4.0 (from pydantic<2.12,>=2.0->gradio)\n",
            "  Downloading typing_inspection-0.4.1-py3-none-any.whl.metadata (2.6 kB)\n",
            "Collecting click>=8.0.0 (from typer<1.0,>=0.12->gradio)\n",
            "  Downloading click-8.2.1-py3-none-any.whl.metadata (2.5 kB)\n",
            "Collecting shellingham>=1.3.0 (from typer<1.0,>=0.12->gradio)\n",
            "  Downloading shellingham-1.5.4-py2.py3-none-any.whl.metadata (3.5 kB)\n",
            "Collecting rich>=10.11.0 (from typer<1.0,>=0.12->gradio)\n",
            "  Downloading rich-14.0.0-py3-none-any.whl.metadata (18 kB)\n",
            "Requirement already satisfied: colorama in c:\\users\\administrador\\anaconda3\\envs\\bert-es\\lib\\site-packages (from click>=8.0.0->typer<1.0,>=0.12->gradio) (0.4.6)\n",
            "Requirement already satisfied: certifi in c:\\users\\administrador\\anaconda3\\envs\\bert-es\\lib\\site-packages (from httpx>=0.24.1->gradio) (2025.6.15)\n",
            "Collecting httpcore==1.* (from httpx>=0.24.1->gradio)\n",
            "  Downloading httpcore-1.0.9-py3-none-any.whl.metadata (21 kB)\n",
            "Collecting h11>=0.16 (from httpcore==1.*->httpx>=0.24.1->gradio)\n",
            "  Downloading h11-0.16.0-py3-none-any.whl.metadata (8.3 kB)\n",
            "Requirement already satisfied: filelock in c:\\users\\administrador\\anaconda3\\envs\\bert-es\\lib\\site-packages (from huggingface-hub>=0.28.1->gradio) (3.13.1)\n",
            "Requirement already satisfied: requests in c:\\users\\administrador\\anaconda3\\envs\\bert-es\\lib\\site-packages (from huggingface-hub>=0.28.1->gradio) (2.32.4)\n",
            "Requirement already satisfied: tqdm>=4.42.1 in c:\\users\\administrador\\anaconda3\\envs\\bert-es\\lib\\site-packages (from huggingface-hub>=0.28.1->gradio) (4.67.1)\n",
            "Requirement already satisfied: six>=1.5 in c:\\users\\administrador\\anaconda3\\envs\\bert-es\\lib\\site-packages (from python-dateutil>=2.8.2->pandas<3.0,>=1.0->gradio) (1.17.0)\n",
            "Collecting markdown-it-py>=2.2.0 (from rich>=10.11.0->typer<1.0,>=0.12->gradio)\n",
            "  Downloading markdown_it_py-3.0.0-py3-none-any.whl.metadata (6.9 kB)\n",
            "Requirement already satisfied: pygments<3.0.0,>=2.13.0 in c:\\users\\administrador\\anaconda3\\envs\\bert-es\\lib\\site-packages (from rich>=10.11.0->typer<1.0,>=0.12->gradio) (2.19.2)\n",
            "Collecting mdurl~=0.1 (from markdown-it-py>=2.2.0->rich>=10.11.0->typer<1.0,>=0.12->gradio)\n",
            "  Downloading mdurl-0.1.2-py3-none-any.whl.metadata (1.6 kB)\n",
            "Requirement already satisfied: charset_normalizer<4,>=2 in c:\\users\\administrador\\anaconda3\\envs\\bert-es\\lib\\site-packages (from requests->huggingface-hub>=0.28.1->gradio) (3.4.2)\n",
            "Requirement already satisfied: urllib3<3,>=1.21.1 in c:\\users\\administrador\\anaconda3\\envs\\bert-es\\lib\\site-packages (from requests->huggingface-hub>=0.28.1->gradio) (2.5.0)\n",
            "Downloading gradio-5.35.0-py3-none-any.whl (54.3 MB)\n",
            "   ---------------------------------------- 0.0/54.3 MB ? eta -:--:--\n",
            "    --------------------------------------- 1.3/54.3 MB 7.5 MB/s eta 0:00:08\n",
            "   - -------------------------------------- 2.6/54.3 MB 6.3 MB/s eta 0:00:09\n",
            "   -- ------------------------------------- 3.9/54.3 MB 6.0 MB/s eta 0:00:09\n",
            "   ---- ----------------------------------- 5.5/54.3 MB 6.5 MB/s eta 0:00:08\n",
            "   ----- ---------------------------------- 7.6/54.3 MB 7.1 MB/s eta 0:00:07\n",
            "   ------ --------------------------------- 9.4/54.3 MB 7.3 MB/s eta 0:00:07\n",
            "   -------- ------------------------------- 11.3/54.3 MB 7.4 MB/s eta 0:00:06\n",
            "   --------- ------------------------------ 12.8/54.3 MB 7.5 MB/s eta 0:00:06\n",
            "   ---------- ----------------------------- 14.4/54.3 MB 7.5 MB/s eta 0:00:06\n",
            "   ----------- ---------------------------- 16.3/54.3 MB 7.6 MB/s eta 0:00:06\n",
            "   ------------- -------------------------- 18.4/54.3 MB 7.7 MB/s eta 0:00:05\n",
            "   -------------- ------------------------- 20.2/54.3 MB 7.9 MB/s eta 0:00:05\n",
            "   ---------------- ----------------------- 22.0/54.3 MB 8.0 MB/s eta 0:00:05\n",
            "   ----------------- ---------------------- 23.9/54.3 MB 8.0 MB/s eta 0:00:04\n",
            "   ------------------ --------------------- 25.4/54.3 MB 7.9 MB/s eta 0:00:04\n",
            "   ------------------- -------------------- 27.0/54.3 MB 7.9 MB/s eta 0:00:04\n",
            "   --------------------- ------------------ 28.8/54.3 MB 8.0 MB/s eta 0:00:04\n",
            "   ---------------------- ----------------- 30.7/54.3 MB 8.0 MB/s eta 0:00:03\n",
            "   ----------------------- ---------------- 32.2/54.3 MB 8.0 MB/s eta 0:00:03\n",
            "   ------------------------- -------------- 34.3/54.3 MB 8.0 MB/s eta 0:00:03\n",
            "   -------------------------- ------------- 36.2/54.3 MB 8.1 MB/s eta 0:00:03\n",
            "   ---------------------------- ----------- 38.3/54.3 MB 8.2 MB/s eta 0:00:02\n",
            "   ----------------------------- ---------- 39.8/54.3 MB 8.2 MB/s eta 0:00:02\n",
            "   ------------------------------ --------- 41.9/54.3 MB 8.2 MB/s eta 0:00:02\n",
            "   -------------------------------- ------- 44.0/54.3 MB 8.3 MB/s eta 0:00:02\n",
            "   --------------------------------- ------ 45.9/54.3 MB 8.3 MB/s eta 0:00:02\n",
            "   ----------------------------------- ---- 47.7/54.3 MB 8.3 MB/s eta 0:00:01\n",
            "   ------------------------------------ --- 49.3/54.3 MB 8.3 MB/s eta 0:00:01\n",
            "   ------------------------------------- -- 50.9/54.3 MB 8.2 MB/s eta 0:00:01\n",
            "   -------------------------------------- - 53.0/54.3 MB 8.3 MB/s eta 0:00:01\n",
            "   ---------------------------------------  54.3/54.3 MB 8.3 MB/s eta 0:00:01\n",
            "   ---------------------------------------  54.3/54.3 MB 8.3 MB/s eta 0:00:01\n",
            "   ---------------------------------------- 54.3/54.3 MB 7.7 MB/s eta 0:00:00\n",
            "Downloading gradio_client-1.10.4-py3-none-any.whl (323 kB)\n",
            "Downloading aiofiles-24.1.0-py3-none-any.whl (15 kB)\n",
            "Downloading anyio-4.9.0-py3-none-any.whl (100 kB)\n",
            "Downloading fastapi-0.115.14-py3-none-any.whl (95 kB)\n",
            "Downloading groovy-0.1.2-py3-none-any.whl (14 kB)\n",
            "Downloading orjson-3.10.18-cp310-cp310-win_amd64.whl (134 kB)\n",
            "Downloading pydantic-2.11.7-py3-none-any.whl (444 kB)\n",
            "Downloading pydantic_core-2.33.2-cp310-cp310-win_amd64.whl (2.0 MB)\n",
            "   ---------------------------------------- 0.0/2.0 MB ? eta -:--:--\n",
            "   -------------------------------- ------- 1.6/2.0 MB 7.0 MB/s eta 0:00:01\n",
            "   ---------------------------------------- 2.0/2.0 MB 6.8 MB/s eta 0:00:00\n",
            "Downloading safehttpx-0.1.6-py3-none-any.whl (8.7 kB)\n",
            "Downloading semantic_version-2.10.0-py2.py3-none-any.whl (15 kB)\n",
            "Downloading starlette-0.46.2-py3-none-any.whl (72 kB)\n",
            "Downloading tomlkit-0.13.3-py3-none-any.whl (38 kB)\n",
            "Downloading typer-0.16.0-py3-none-any.whl (46 kB)\n",
            "Downloading websockets-15.0.1-cp310-cp310-win_amd64.whl (176 kB)\n",
            "Downloading annotated_types-0.7.0-py3-none-any.whl (13 kB)\n",
            "Downloading click-8.2.1-py3-none-any.whl (102 kB)\n",
            "Downloading httpx-0.28.1-py3-none-any.whl (73 kB)\n",
            "Downloading httpcore-1.0.9-py3-none-any.whl (78 kB)\n",
            "Downloading h11-0.16.0-py3-none-any.whl (37 kB)\n",
            "Downloading python_multipart-0.0.20-py3-none-any.whl (24 kB)\n",
            "Downloading rich-14.0.0-py3-none-any.whl (243 kB)\n",
            "Downloading markdown_it_py-3.0.0-py3-none-any.whl (87 kB)\n",
            "Downloading mdurl-0.1.2-py3-none-any.whl (10.0 kB)\n",
            "Downloading ruff-0.12.1-py3-none-win_amd64.whl (11.5 MB)\n",
            "   ---------------------------------------- 0.0/11.5 MB ? eta -:--:--\n",
            "   ------ --------------------------------- 1.8/11.5 MB 8.4 MB/s eta 0:00:02\n",
            "   ------------ --------------------------- 3.7/11.5 MB 8.7 MB/s eta 0:00:01\n",
            "   ------------------- -------------------- 5.5/11.5 MB 9.1 MB/s eta 0:00:01\n",
            "   ----------------------- ---------------- 6.8/11.5 MB 8.6 MB/s eta 0:00:01\n",
            "   ----------------------------- ---------- 8.7/11.5 MB 8.3 MB/s eta 0:00:01\n",
            "   ------------------------------------- -- 10.7/11.5 MB 8.4 MB/s eta 0:00:01\n",
            "   ---------------------------------------- 11.5/11.5 MB 8.1 MB/s eta 0:00:00\n",
            "Downloading shellingham-1.5.4-py2.py3-none-any.whl (9.8 kB)\n",
            "Downloading sniffio-1.3.1-py3-none-any.whl (10 kB)\n",
            "Downloading typing_inspection-0.4.1-py3-none-any.whl (14 kB)\n",
            "Downloading uvicorn-0.35.0-py3-none-any.whl (66 kB)\n",
            "Downloading ffmpy-0.6.0-py3-none-any.whl (5.5 kB)\n",
            "Downloading pydub-0.25.1-py2.py3-none-any.whl (32 kB)\n",
            "Installing collected packages: pydub, websockets, typing-inspection, tomlkit, sniffio, shellingham, semantic-version, ruff, python-multipart, pydantic-core, orjson, mdurl, h11, groovy, ffmpy, click, annotated-types, aiofiles, uvicorn, pydantic, markdown-it-py, httpcore, anyio, starlette, rich, httpx, typer, safehttpx, gradio-client, fastapi, gradio\n",
            "\n",
            "   - --------------------------------------  1/31 [websockets]\n",
            "   --- ------------------------------------  3/31 [tomlkit]\n",
            "   --------- ------------------------------  7/31 [ruff]\n",
            "   ---------- -----------------------------  8/31 [python-multipart]\n",
            "   -------------- ------------------------- 11/31 [mdurl]\n",
            "   ------------------- -------------------- 15/31 [click]\n",
            "   ----------------------- ---------------- 18/31 [uvicorn]\n",
            "   ------------------------ --------------- 19/31 [pydantic]\n",
            "   ------------------------ --------------- 19/31 [pydantic]\n",
            "   ------------------------ --------------- 19/31 [pydantic]\n",
            "   ------------------------ --------------- 19/31 [pydantic]\n",
            "   ------------------------ --------------- 19/31 [pydantic]\n",
            "   ------------------------- -------------- 20/31 [markdown-it-py]\n",
            "   ------------------------- -------------- 20/31 [markdown-it-py]\n",
            "   --------------------------- ------------ 21/31 [httpcore]\n",
            "   --------------------------- ------------ 21/31 [httpcore]\n",
            "   ---------------------------- ----------- 22/31 [anyio]\n",
            "   ----------------------------- ---------- 23/31 [starlette]\n",
            "   ------------------------------ --------- 24/31 [rich]\n",
            "   ------------------------------ --------- 24/31 [rich]\n",
            "   ------------------------------ --------- 24/31 [rich]\n",
            "   --------------------------------- ------ 26/31 [typer]\n",
            "   ------------------------------------ --- 28/31 [gradio-client]\n",
            "   ------------------------------------- -- 29/31 [fastapi]\n",
            "   -------------------------------------- - 30/31 [gradio]\n",
            "   -------------------------------------- - 30/31 [gradio]\n",
            "   -------------------------------------- - 30/31 [gradio]\n",
            "   -------------------------------------- - 30/31 [gradio]\n",
            "   -------------------------------------- - 30/31 [gradio]\n",
            "   -------------------------------------- - 30/31 [gradio]\n",
            "   -------------------------------------- - 30/31 [gradio]\n",
            "   -------------------------------------- - 30/31 [gradio]\n",
            "   -------------------------------------- - 30/31 [gradio]\n",
            "   -------------------------------------- - 30/31 [gradio]\n",
            "   -------------------------------------- - 30/31 [gradio]\n",
            "   -------------------------------------- - 30/31 [gradio]\n",
            "   -------------------------------------- - 30/31 [gradio]\n",
            "   -------------------------------------- - 30/31 [gradio]\n",
            "   -------------------------------------- - 30/31 [gradio]\n",
            "   -------------------------------------- - 30/31 [gradio]\n",
            "   -------------------------------------- - 30/31 [gradio]\n",
            "   -------------------------------------- - 30/31 [gradio]\n",
            "   -------------------------------------- - 30/31 [gradio]\n",
            "   -------------------------------------- - 30/31 [gradio]\n",
            "   -------------------------------------- - 30/31 [gradio]\n",
            "   -------------------------------------- - 30/31 [gradio]\n",
            "   -------------------------------------- - 30/31 [gradio]\n",
            "   -------------------------------------- - 30/31 [gradio]\n",
            "   -------------------------------------- - 30/31 [gradio]\n",
            "   -------------------------------------- - 30/31 [gradio]\n",
            "   -------------------------------------- - 30/31 [gradio]\n",
            "   -------------------------------------- - 30/31 [gradio]\n",
            "   ---------------------------------------- 31/31 [gradio]\n",
            "\n",
            "Successfully installed aiofiles-24.1.0 annotated-types-0.7.0 anyio-4.9.0 click-8.2.1 fastapi-0.115.14 ffmpy-0.6.0 gradio-5.35.0 gradio-client-1.10.4 groovy-0.1.2 h11-0.16.0 httpcore-1.0.9 httpx-0.28.1 markdown-it-py-3.0.0 mdurl-0.1.2 orjson-3.10.18 pydantic-2.11.7 pydantic-core-2.33.2 pydub-0.25.1 python-multipart-0.0.20 rich-14.0.0 ruff-0.12.1 safehttpx-0.1.6 semantic-version-2.10.0 shellingham-1.5.4 sniffio-1.3.1 starlette-0.46.2 tomlkit-0.13.3 typer-0.16.0 typing-inspection-0.4.1 uvicorn-0.35.0 websockets-15.0.1\n"
          ]
        }
      ],
      "source": [
        "!pip install gradio"
      ]
    },
    {
      "cell_type": "code",
      "execution_count": 58,
      "metadata": {
        "colab": {
          "base_uri": "https://localhost:8080/",
          "height": 400
        },
        "id": "CB7kBqIuKE1c",
        "outputId": "a4a8be37-818a-4467-c9c4-7002caf52526"
      },
      "outputs": [
        {
          "name": "stdout",
          "output_type": "stream",
          "text": [
            "* Running on local URL:  http://127.0.0.1:7869\n",
            "* Running on public URL: https://a4f0f955cc53e519aa.gradio.live\n",
            "\n",
            "This share link expires in 1 week. For free permanent hosting and GPU upgrades, run `gradio deploy` from the terminal in the working directory to deploy to Hugging Face Spaces (https://huggingface.co/spaces)\n"
          ]
        },
        {
          "data": {
            "text/html": [
              "<div><iframe src=\"https://a4f0f955cc53e519aa.gradio.live\" width=\"100%\" height=\"500\" allow=\"autoplay; camera; microphone; clipboard-read; clipboard-write;\" frameborder=\"0\" allowfullscreen></iframe></div>"
            ],
            "text/plain": [
              "<IPython.core.display.HTML object>"
            ]
          },
          "metadata": {},
          "output_type": "display_data"
        },
        {
          "data": {
            "text/plain": []
          },
          "execution_count": 58,
          "metadata": {},
          "output_type": "execute_result"
        }
      ],
      "source": [
        "import gradio as gr\n",
        "import pandas as pd\n",
        "import joblib\n",
        "\n",
        "# Cargar el modelo entrenado\n",
        "rf_model = joblib.load('rf_model.pkl')\n",
        "\n",
        "# Función de predicción con conversión de categorías a valores numéricos\n",
        "def predict_diabetes_web(gender, age, hypertension, heart_disease, smoking_history, bmi, HbA1c_level, blood_glucose_level):\n",
        "    gender_map = {\"Mujer\": 0, \"Hombre\": 1}\n",
        "    hypertension_map = {\"No\": 0, \"Sí\": 1}\n",
        "    heart_disease_map = {\"No\": 0, \"Sí\": 1}\n",
        "    smoking_map = {\n",
        "        \"Nunca\": 0,\n",
        "        \"Exfumador\": 1,\n",
        "        \"Fumador ocasional\": 2,\n",
        "        \"Fumador actual\": 3\n",
        "    }\n",
        "\n",
        "    input_data = pd.DataFrame({\n",
        "        'gender': [gender_map[gender]],\n",
        "        'age': [age],\n",
        "        'hypertension': [hypertension_map[hypertension]],\n",
        "        'heart_disease': [heart_disease_map[heart_disease]],\n",
        "        'smoking_history': [smoking_map[smoking_history]],\n",
        "        'bmi': [bmi],\n",
        "        'HbA1c_level': [HbA1c_level],\n",
        "        'blood_glucose_level': [blood_glucose_level]\n",
        "    })\n",
        "\n",
        "    prediction = rf_model.predict(input_data)[0]\n",
        "    probability = rf_model.predict_proba(input_data)[0][1] * 100\n",
        "\n",
        "    if prediction == 1:\n",
        "        return f\"\"\"\n",
        "        <div style='background-color: #ffe6e6; padding: 20px; border-left: 6px solid #e60000; border-radius: 10px;'>\n",
        "        <h3 style='color:#b30000;'>🔴 Riesgo de diabetes detectado: {probability:.1f}%</h3>\n",
        "        <p>Consulta con un profesional médico.</p>\n",
        "        <ul>\n",
        "            <li>🩺 Programa una cita médica</li>\n",
        "            <li>🍎 Reduce azúcares refinados</li>\n",
        "            <li>🚶‍♂️ Camina 30 min diarios</li>\n",
        "            <li>📊 Monitorea tus niveles</li>\n",
        "        </ul>\n",
        "        <em>Modelo IA Random Forest</em>\n",
        "        </div>\n",
        "        \"\"\"\n",
        "    else:\n",
        "        return f\"\"\"\n",
        "        <div style='background-color: #e6f7ff; padding: 20px; border-left: 6px solid #007acc; border-radius: 10px;'>\n",
        "        <h3 style='color:#007acc;'>🟢 Bajo riesgo de diabetes: {probability:.1f}%</h3>\n",
        "        <p>¡Sigue cuidando tu salud!</p>\n",
        "        <ul>\n",
        "            <li>🥗 Dieta saludable</li>\n",
        "            <li>🧘‍♀️ Maneja el estrés</li>\n",
        "            <li>🏋️‍♂️ Ejercicio regular</li>\n",
        "            <li>💤 Duerme bien</li>\n",
        "        </ul>\n",
        "        <em>Modelo IA Random Forest</em>\n",
        "        </div>\n",
        "        \"\"\"\n",
        "\n",
        "# Interfaz mejorada estilo médico moderno\n",
        "with gr.Blocks(theme=gr.themes.Soft(primary_hue=\"blue\", secondary_hue=\"cyan\")) as interface:\n",
        "    gr.HTML(\"\"\"\n",
        "    <div style=\"text-align:center; padding: 20px;\">\n",
        "        <h1 style=\"font-size: 2.5em; color: #004080;\">🔬 Predicción de Diabetes</h1>\n",
        "        <p style=\"color: #444; font-size: 1.1em;\">Completa tus datos para conocer tu riesgo según un modelo clínico de inteligencia artificial.</p>\n",
        "    </div>\n",
        "    \"\"\")\n",
        "\n",
        "    with gr.Row():\n",
        "        with gr.Column():\n",
        "            gr.Markdown(\"### 📍 Datos Demográficos\")\n",
        "            gender = gr.Radio([\"Mujer\", \"Hombre\"], label=\"Género\")\n",
        "            age = gr.Slider(0, 100, step=1, label=\"Edad\")\n",
        "\n",
        "            gr.Markdown(\"### 🏥 Historial Médico\")\n",
        "            hypertension = gr.Radio([\"No\", \"Sí\"], label=\"Hipertensión\")\n",
        "            heart_disease = gr.Radio([\"No\", \"Sí\"], label=\"Enfermedad Cardíaca\")\n",
        "            smoking_history = gr.Dropdown([\"Nunca\", \"Exfumador\", \"Fumador ocasional\", \"Fumador actual\"], label=\"Historial de Tabaquismo\")\n",
        "\n",
        "        with gr.Column():\n",
        "            gr.Markdown(\"### 📊 Biomarcadores Clave\")\n",
        "            bmi = gr.Slider(10, 60, step=0.1, label=\"IMC\")\n",
        "            HbA1c_level = gr.Slider(3.0, 15.0, step=0.1, label=\"HbA1c (%)\")\n",
        "            blood_glucose_level = gr.Slider(50, 300, step=1, label=\"Glucosa en Sangre (mg/dL)\")\n",
        "\n",
        "    analyze_btn = gr.Button(\"🔍 ANALIZAR RIESGO\")\n",
        "    result = gr.HTML()\n",
        "\n",
        "    analyze_btn.click(\n",
        "        fn=predict_diabetes_web,\n",
        "        inputs=[gender, age, hypertension, heart_disease, smoking_history, bmi, HbA1c_level, blood_glucose_level],\n",
        "        outputs=result\n",
        "    )\n",
        "\n",
        "    gr.HTML(\"\"\"\n",
        "    <div style=\"text-align:center; color:#999; font-size: 0.9em; padding-top: 30px;\">\n",
        "        <p>© 2025 | Esta herramienta no reemplaza un diagnóstico médico profesional.</p>\n",
        "    </div>\n",
        "    \"\"\")\n",
        "\n",
        "interface.launch(share=True)\n"
      ]
    }
  ],
  "metadata": {
    "colab": {
      "provenance": []
    },
    "kernelspec": {
      "display_name": "bert-es",
      "language": "python",
      "name": "python3"
    },
    "language_info": {
      "codemirror_mode": {
        "name": "ipython",
        "version": 3
      },
      "file_extension": ".py",
      "mimetype": "text/x-python",
      "name": "python",
      "nbconvert_exporter": "python",
      "pygments_lexer": "ipython3",
      "version": "3.10.18"
    }
  },
  "nbformat": 4,
  "nbformat_minor": 0
}
